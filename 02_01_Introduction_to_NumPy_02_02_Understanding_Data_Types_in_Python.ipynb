{
  "nbformat": 4,
  "nbformat_minor": 0,
  "metadata": {
    "colab": {
      "provenance": [],
      "authorship_tag": "ABX9TyPuHLmQTmoyKGDMcqMn9nKH",
      "include_colab_link": true
    },
    "kernelspec": {
      "name": "python3",
      "display_name": "Python 3"
    },
    "language_info": {
      "name": "python"
    }
  },
  "cells": [
    {
      "cell_type": "markdown",
      "metadata": {
        "id": "view-in-github",
        "colab_type": "text"
      },
      "source": [
        "<a href=\"https://colab.research.google.com/github/Saifullah785/python-data-science-handbook-notes/blob/main/02_01_Introduction_to_NumPy_02_02_Understanding_Data_Types_in_Python.ipynb\" target=\"_parent\"><img src=\"https://colab.research.google.com/assets/colab-badge.svg\" alt=\"Open In Colab\"/></a>"
      ]
    },
    {
      "cell_type": "markdown",
      "source": [
        "# **🧠 Summary Notes – Introduction to NumPy (with Real-World Analogies)**\n",
        "\n",
        "\n",
        "---\n",
        "\n",
        "\n",
        "**✅ Core Idea**\n",
        "\n",
        "NumPy is the foundation of numerical computing in Python. It's essential for working with data—whether it's images, sound, text, or measurements.\n",
        "\n",
        "**📦 Why NumPy?**\n",
        "\n",
        "Real-world analogy: Think of data science as cooking, and data as ingredients.\n",
        "\n",
        "But before you cook, you need to prepare (clean, slice, measure) the ingredients—this is what NumPy helps with.\n",
        "\n",
        "Regardless of whether you're working with:\n",
        "\n",
        "\n",
        "📸 Images → 2D arrays (rows and columns of pixel values)\n",
        "\n",
        "\n",
        "🔊 Sound clips → 1D arrays (intensity over time)\n",
        "\n",
        "\n",
        "📃 Text → Transformed into numbers (e.g., word frequency counts)\n",
        "\n",
        "\n",
        "The common format: all become arrays of numbers.\n",
        "\n",
        "\n",
        "**🧰 What is NumPy?**\n",
        "\n",
        "NumPy = Numerical Python\n",
        "\n",
        "It's a library that provides:\n",
        "\n",
        "Efficient storage of numbers\n",
        "\n",
        "Fast operations on arrays\n",
        "\n",
        "It’s the engine that powers many data tools (like Pandas, Scikit-learn, etc.)\n",
        "\n",
        "**🆚 NumPy Arrays vs Python Lists**\n",
        "\n",
        "| Feature    | Python List  | NumPy Array          |\n",
        "| ---------- | ------------ | -------------------- |\n",
        "| Speed      | Slower       | Much faster          |\n",
        "| Memory     | Inefficient  | Efficient            |\n",
        "| Operations | Manual loops | Vectorized, bulk ops |\n",
        "\n",
        "\n",
        "Memory Tip: Imagine carrying books 🧠:\n",
        "\n",
        "Lists = carrying books one by one 📚\n",
        "\n",
        "NumPy = using a trolley to carry them all at once 🚛"
      ],
      "metadata": {
        "id": "avQdCYsUboGF"
      }
    },
    {
      "cell_type": "markdown",
      "source": [
        "# **🧠 Summary Notes: Understanding Data Types in Python**\n",
        "\n",
        "\n",
        "---\n",
        "\n",
        "\n",
        "\n",
        "**🎯 Why it Matters:**\n",
        "\n",
        "To write efficient, scalable data science code, you must understand:\n",
        "\n",
        "How Python stores data (high-level, flexible but slower)\n",
        "\n",
        "How NumPy improves performance (low-level, fixed-type arrays)"
      ],
      "metadata": {
        "id": "3PQcyCZOfqlX"
      }
    },
    {
      "cell_type": "markdown",
      "source": [
        "#**1.Dynamic vs Static Typing**\n",
        "\n",
        "Python is dynamically typed -> you can reassign different types to the same variable"
      ],
      "metadata": {
        "id": "4rFrYed_iXwv"
      }
    },
    {
      "cell_type": "code",
      "execution_count": 30,
      "metadata": {
        "colab": {
          "base_uri": "https://localhost:8080/"
        },
        "id": "xPhjjfnGaY88",
        "outputId": "9c9f37eb-7c00-420b-ede6-42c9e9398f5a"
      },
      "outputs": [
        {
          "output_type": "execute_result",
          "data": {
            "text/plain": [
              "str"
            ]
          },
          "metadata": {},
          "execution_count": 30
        }
      ],
      "source": [
        "x = 4 # int\n",
        "x = type('four') # now str\n",
        "x"
      ]
    },
    {
      "cell_type": "markdown",
      "source": [
        "C/Java are statically typed -> you must declare the type of the variable"
      ],
      "metadata": {
        "id": "K1jIEgY5jp94"
      }
    },
    {
      "cell_type": "code",
      "source": [
        "# int x = 4;\n",
        "# x = 'four'; // error"
      ],
      "metadata": {
        "id": "zymfrHeUi1g-"
      },
      "execution_count": 31,
      "outputs": []
    },
    {
      "cell_type": "markdown",
      "source": [
        "**Real world analogy:**\n",
        "\n",
        "Think of python variables  like a multi purpose box that can hold anything books shoes gadgets but in C, each box can only hold a specific item type, like only books."
      ],
      "metadata": {
        "id": "8nAYsciNkeG5"
      }
    },
    {
      "cell_type": "markdown",
      "source": [
        "# **2. Python Integer Is a Complex Object**\n",
        "\n",
        "Python int is not just a number. It's an object with metadata:\n",
        "\n",
        "Reference count (ob_refcnt)\n",
        "\n",
        "Type info (ob_type)\n",
        "\n",
        "Size info (ob_size)\n",
        "\n",
        "Actual value (ob_digit)\n",
        "\n",
        "**📦 Real-world analogy:**\n",
        "\n",
        "A gift box with a label (type), how many people are using it (ref count), and the actual gift inside (value)"
      ],
      "metadata": {
        "id": "XJBaCNdfk-6t"
      }
    },
    {
      "cell_type": "markdown",
      "source": [
        "# **3. Python List vs NumPy Array**\n",
        "\n",
        "🔹 Python List:\n",
        "\n",
        "Flexible, can mix types"
      ],
      "metadata": {
        "id": "aJhemJnOlPXD"
      }
    },
    {
      "cell_type": "code",
      "source": [
        "L  = [1, \"two\", 3.0]\n",
        "L\n",
        "\n",
        "# Each element is a full object ➝ More memory & slower processing."
      ],
      "metadata": {
        "colab": {
          "base_uri": "https://localhost:8080/"
        },
        "id": "JhX5-mLgkxKQ",
        "outputId": "4d238ddf-bd74-42f8-eb68-5b4e680bfd6f"
      },
      "execution_count": 32,
      "outputs": [
        {
          "output_type": "execute_result",
          "data": {
            "text/plain": [
              "[1, 'two', 3.0]"
            ]
          },
          "metadata": {},
          "execution_count": 32
        }
      ]
    },
    {
      "cell_type": "markdown",
      "source": [
        "**🔹 NumPy Array:**\n",
        "\n",
        "Fixed-type, faster & memory-efficient."
      ],
      "metadata": {
        "id": "1AB3h9f9lqCH"
      }
    },
    {
      "cell_type": "code",
      "source": [
        "import numpy as np\n",
        "\n",
        "np.array([1, \"two\", 3.0])"
      ],
      "metadata": {
        "colab": {
          "base_uri": "https://localhost:8080/"
        },
        "id": "QFm6mDPsjyTu",
        "outputId": "5c0c12e9-4cf1-40af-961d-452347a26844"
      },
      "execution_count": 33,
      "outputs": [
        {
          "output_type": "execute_result",
          "data": {
            "text/plain": [
              "array(['1', 'two', '3.0'], dtype='<U32')"
            ]
          },
          "metadata": {},
          "execution_count": 33
        }
      ]
    },
    {
      "cell_type": "markdown",
      "source": [
        "**✅ Analogy:**\n",
        "\n",
        "\n",
        "Python List = A shelf of boxes of all shapes/sizes (hard to manage).\n",
        "\n",
        "NumPy Array = A row of same-size containers (easy to process, efficient)."
      ],
      "metadata": {
        "id": "AE7BuPWrl4Ib"
      }
    },
    {
      "cell_type": "markdown",
      "source": [
        "#**4. Creating NumPy Arrays**"
      ],
      "metadata": {
        "id": "c5a_1K5smBVI"
      }
    },
    {
      "cell_type": "code",
      "source": [
        "np.array([1, 3, 4])"
      ],
      "metadata": {
        "colab": {
          "base_uri": "https://localhost:8080/"
        },
        "id": "mp8WY5zKmDgK",
        "outputId": "e54e12c9-8b0b-49fc-aeb5-8eb3a12ea154"
      },
      "execution_count": 34,
      "outputs": [
        {
          "output_type": "execute_result",
          "data": {
            "text/plain": [
              "array([1, 3, 4])"
            ]
          },
          "metadata": {},
          "execution_count": 34
        }
      ]
    },
    {
      "cell_type": "markdown",
      "source": [
        "**💡 Type Upcasting Example**"
      ],
      "metadata": {
        "id": "ZYjE0p5_mMEY"
      }
    },
    {
      "cell_type": "code",
      "source": [
        "np.array([3.14, 4, 2]) # will be all floats"
      ],
      "metadata": {
        "colab": {
          "base_uri": "https://localhost:8080/"
        },
        "id": "NOyHy0oXmJ8j",
        "outputId": "ca74dcca-003e-4e95-b244-0611e8b3b4c4"
      },
      "execution_count": 35,
      "outputs": [
        {
          "output_type": "execute_result",
          "data": {
            "text/plain": [
              "array([3.14, 4.  , 2.  ])"
            ]
          },
          "metadata": {},
          "execution_count": 35
        }
      ]
    },
    {
      "cell_type": "markdown",
      "source": [
        "#**🎯 Setting Data Type**"
      ],
      "metadata": {
        "id": "ggaix_rpmZRl"
      }
    },
    {
      "cell_type": "code",
      "source": [
        "np.array([1, 2, 3], dtype='float32')"
      ],
      "metadata": {
        "colab": {
          "base_uri": "https://localhost:8080/"
        },
        "id": "IKk0REGwmcfz",
        "outputId": "2197986c-4692-4552-9a79-f85da246badc"
      },
      "execution_count": 36,
      "outputs": [
        {
          "output_type": "execute_result",
          "data": {
            "text/plain": [
              "array([1., 2., 3.], dtype=float32)"
            ]
          },
          "metadata": {},
          "execution_count": 36
        }
      ]
    },
    {
      "cell_type": "markdown",
      "source": [
        "# **🧱 Multidimensional Arrays**"
      ],
      "metadata": {
        "id": "dgCFL1IomlMt"
      }
    },
    {
      "cell_type": "code",
      "source": [
        "np.array([[1,2], [3,4]])"
      ],
      "metadata": {
        "colab": {
          "base_uri": "https://localhost:8080/"
        },
        "id": "58jpFrNDmuPb",
        "outputId": "2337cc3d-4d96-4881-8ae9-d97a1bccc9bd"
      },
      "execution_count": 37,
      "outputs": [
        {
          "output_type": "execute_result",
          "data": {
            "text/plain": [
              "array([[1, 2],\n",
              "       [3, 4]])"
            ]
          },
          "metadata": {},
          "execution_count": 37
        }
      ]
    },
    {
      "cell_type": "code",
      "source": [
        "# Nested lists result in multidimensional arrays\n",
        "np.array([range(i, i + 3) for i in [2, 4, 6]])"
      ],
      "metadata": {
        "colab": {
          "base_uri": "https://localhost:8080/"
        },
        "id": "2ZKFrvqBr3g_",
        "outputId": "720af18a-489f-4df4-e054-efb98984ab70"
      },
      "execution_count": 38,
      "outputs": [
        {
          "output_type": "execute_result",
          "data": {
            "text/plain": [
              "array([[2, 3, 4],\n",
              "       [4, 5, 6],\n",
              "       [6, 7, 8]])"
            ]
          },
          "metadata": {},
          "execution_count": 38
        }
      ]
    },
    {
      "cell_type": "markdown",
      "source": [
        "#**5. Creating Arrays from Scratch (Faster)**"
      ],
      "metadata": {
        "id": "nuV3z-3jm5jS"
      }
    },
    {
      "cell_type": "markdown",
      "source": [
        "| Purpose                    | Code                               |\n",
        "| -------------------------- | ---------------------------------- |\n",
        "| All Zeros (int)            | `np.zeros(10, dtype=int)`          |\n",
        "| All Ones (float)           | `np.ones((3, 5), dtype=float)`     |\n",
        "| Constant value             | `np.full((3, 5), 3.14)`            |\n",
        "| Range with steps           | `np.arange(0, 20, 2)`              |\n",
        "| Evenly spaced              | `np.linspace(0, 1, 5)`             |\n",
        "| Random float (0–1)         | `np.random.random((3, 3))`         |\n",
        "| Random normal distribution | `np.random.normal(0, 1, (3, 3))`   |\n",
        "| Random integers (0–9)      | `np.random.randint(0, 10, (3, 3))` |\n",
        "| Identity matrix            | `np.eye(3)`                        |\n",
        "| Uninitialized array        | `np.empty(3)`                      |\n"
      ],
      "metadata": {
        "id": "4F6R8nWJm_7n"
      }
    },
    {
      "cell_type": "code",
      "source": [
        "# Create a length-10 integer array filled with 0s\n",
        "\n",
        "np.zeros(10, dtype=int)"
      ],
      "metadata": {
        "colab": {
          "base_uri": "https://localhost:8080/"
        },
        "id": "CDBLqeEBm9Jk",
        "outputId": "e330a88c-548c-4dbd-f8f6-180d031c3aeb"
      },
      "execution_count": 39,
      "outputs": [
        {
          "output_type": "execute_result",
          "data": {
            "text/plain": [
              "array([0, 0, 0, 0, 0, 0, 0, 0, 0, 0])"
            ]
          },
          "metadata": {},
          "execution_count": 39
        }
      ]
    },
    {
      "cell_type": "code",
      "source": [
        "# Create a 3x5 floating-point array filled with 1s\n",
        "\n",
        "np.ones((3, 5), dtype=float)"
      ],
      "metadata": {
        "colab": {
          "base_uri": "https://localhost:8080/"
        },
        "id": "H4yyZmBynPHr",
        "outputId": "7c2be5f8-885c-41f8-ccca-18396d59420d"
      },
      "execution_count": 40,
      "outputs": [
        {
          "output_type": "execute_result",
          "data": {
            "text/plain": [
              "array([[1., 1., 1., 1., 1.],\n",
              "       [1., 1., 1., 1., 1.],\n",
              "       [1., 1., 1., 1., 1.]])"
            ]
          },
          "metadata": {},
          "execution_count": 40
        }
      ]
    },
    {
      "cell_type": "code",
      "source": [
        "# Create a 3x5 array filled with 3.14\n",
        "\n",
        "np.full((3, 5), 3.14)"
      ],
      "metadata": {
        "colab": {
          "base_uri": "https://localhost:8080/"
        },
        "id": "b2URVVV1nTzZ",
        "outputId": "f29d135c-1003-4150-dc21-a97e67f8774a"
      },
      "execution_count": 41,
      "outputs": [
        {
          "output_type": "execute_result",
          "data": {
            "text/plain": [
              "array([[3.14, 3.14, 3.14, 3.14, 3.14],\n",
              "       [3.14, 3.14, 3.14, 3.14, 3.14],\n",
              "       [3.14, 3.14, 3.14, 3.14, 3.14]])"
            ]
          },
          "metadata": {},
          "execution_count": 41
        }
      ]
    },
    {
      "cell_type": "code",
      "source": [
        "# Create an array filled with a linear sequence\n",
        "# starting at 0, ending at 20, stepping by 2\n",
        "# (this is similar to the built-in range function)\n",
        "\n",
        "np.arange(0,20,2)"
      ],
      "metadata": {
        "colab": {
          "base_uri": "https://localhost:8080/"
        },
        "id": "UGtc25WanYSz",
        "outputId": "999f3516-ce6f-48d0-add4-0c52c87c4af1"
      },
      "execution_count": 42,
      "outputs": [
        {
          "output_type": "execute_result",
          "data": {
            "text/plain": [
              "array([ 0,  2,  4,  6,  8, 10, 12, 14, 16, 18])"
            ]
          },
          "metadata": {},
          "execution_count": 42
        }
      ]
    },
    {
      "cell_type": "code",
      "source": [
        "# Create an array of five values evenly spaced between 0 and 1\n",
        "\n",
        "np.linspace(0,1,5)"
      ],
      "metadata": {
        "colab": {
          "base_uri": "https://localhost:8080/"
        },
        "id": "6hT3-BR-n9re",
        "outputId": "5c4f3aa7-efa6-4751-9565-ccc7a5d9a5a7"
      },
      "execution_count": 43,
      "outputs": [
        {
          "output_type": "execute_result",
          "data": {
            "text/plain": [
              "array([0.  , 0.25, 0.5 , 0.75, 1.  ])"
            ]
          },
          "metadata": {},
          "execution_count": 43
        }
      ]
    },
    {
      "cell_type": "code",
      "source": [
        "# Create a 3x3 array of uniformly distributed\n",
        "# pseudorandom values between 0 and 1\n",
        "\n",
        "np.random.random((3, 3))"
      ],
      "metadata": {
        "colab": {
          "base_uri": "https://localhost:8080/"
        },
        "id": "OpjrYRB-oHIG",
        "outputId": "763af506-c889-4c89-bd32-a8e2b30ca972"
      },
      "execution_count": 44,
      "outputs": [
        {
          "output_type": "execute_result",
          "data": {
            "text/plain": [
              "array([[0.42167387, 0.60651111, 0.11765056],\n",
              "       [0.53340084, 0.94662295, 0.13820143],\n",
              "       [0.30152812, 0.97228414, 0.0385225 ]])"
            ]
          },
          "metadata": {},
          "execution_count": 44
        }
      ]
    },
    {
      "cell_type": "code",
      "source": [
        "# Create a 3x3 array of normally distributed pseudorandom\n",
        "# values with mean 0 and standard deviation 1\n",
        "\n",
        "np.random.normal(0, 1, (3, 3))"
      ],
      "metadata": {
        "colab": {
          "base_uri": "https://localhost:8080/"
        },
        "id": "dnIHh6_7oc1m",
        "outputId": "6308cd88-c7b9-4690-c46f-2f2d11ca5c3d"
      },
      "execution_count": 45,
      "outputs": [
        {
          "output_type": "execute_result",
          "data": {
            "text/plain": [
              "array([[-1.56056461,  1.79520689, -0.08655393],\n",
              "       [-0.05194797,  0.12470909,  0.59294043],\n",
              "       [ 1.08498   ,  0.29776221, -1.05048891]])"
            ]
          },
          "metadata": {},
          "execution_count": 45
        }
      ]
    },
    {
      "cell_type": "code",
      "source": [
        "# Create a 3x3 array of pseudorandom integers in the interval [0, 10)\n",
        "\n",
        "np.random.randint(0, 10, (3, 3))"
      ],
      "metadata": {
        "colab": {
          "base_uri": "https://localhost:8080/"
        },
        "id": "YTLPvNzWpm6g",
        "outputId": "3184b62e-0703-4a0f-f36c-895723d3dc46"
      },
      "execution_count": 46,
      "outputs": [
        {
          "output_type": "execute_result",
          "data": {
            "text/plain": [
              "array([[6, 8, 4],\n",
              "       [4, 0, 1],\n",
              "       [2, 3, 4]])"
            ]
          },
          "metadata": {},
          "execution_count": 46
        }
      ]
    },
    {
      "cell_type": "code",
      "source": [
        "# Create a 3x3 identity matrix\n",
        "\n",
        "np.eye(3)"
      ],
      "metadata": {
        "colab": {
          "base_uri": "https://localhost:8080/"
        },
        "id": "6zAgEunrqPSK",
        "outputId": "ad6bf233-3cde-4211-e34b-225cb96119aa"
      },
      "execution_count": 47,
      "outputs": [
        {
          "output_type": "execute_result",
          "data": {
            "text/plain": [
              "array([[1., 0., 0.],\n",
              "       [0., 1., 0.],\n",
              "       [0., 0., 1.]])"
            ]
          },
          "metadata": {},
          "execution_count": 47
        }
      ]
    },
    {
      "cell_type": "code",
      "source": [
        "# Create an uninitialized array of three integers; the values will be\n",
        "# whatever happens to already exist at that memory location\n",
        "\n",
        "np.empty(3)\n",
        "#"
      ],
      "metadata": {
        "colab": {
          "base_uri": "https://localhost:8080/"
        },
        "id": "eeo7pwnTqbHh",
        "outputId": "9c34b27d-f20d-4844-f053-2593acd7b027"
      },
      "execution_count": 48,
      "outputs": [
        {
          "output_type": "execute_result",
          "data": {
            "text/plain": [
              "array([1., 1., 1.])"
            ]
          },
          "metadata": {},
          "execution_count": 48
        }
      ]
    },
    {
      "cell_type": "markdown",
      "source": [
        "✅ Real-world analogy: Like choosing pre-made furniture vs custom-building everything."
      ],
      "metadata": {
        "id": "rXofpSp_qn1h"
      }
    },
    {
      "cell_type": "markdown",
      "source": [
        "# **6. NumPy Data Types (dtypes)**"
      ],
      "metadata": {
        "id": "0Spaqsvvqsa4"
      }
    },
    {
      "cell_type": "markdown",
      "source": [
        "| NumPy Type      | Description                            |\n",
        "| --------------- | -------------------------------------- |\n",
        "| `bool_`         | Boolean (True/False)                   |\n",
        "| `int8-64`       | Signed integers of various sizes       |\n",
        "| `uint8-64`      | Unsigned integers (no negative values) |\n",
        "| `float16-64`    | Floating point (half/single/double)    |\n",
        "| `complex64/128` | Complex numbers                        |\n"
      ],
      "metadata": {
        "id": "_AtIL9QNqySY"
      }
    },
    {
      "cell_type": "code",
      "source": [
        "np.zeros(10, dtype=np.int16)\n",
        "np.zeros(10, dtype='int16')"
      ],
      "metadata": {
        "colab": {
          "base_uri": "https://localhost:8080/"
        },
        "id": "IdM0Z-3Vqlh2",
        "outputId": "cd10dffe-2389-4b95-c155-6c4dc560234b"
      },
      "execution_count": 49,
      "outputs": [
        {
          "output_type": "execute_result",
          "data": {
            "text/plain": [
              "array([0, 0, 0, 0, 0, 0, 0, 0, 0, 0], dtype=int16)"
            ]
          },
          "metadata": {},
          "execution_count": 49
        }
      ]
    },
    {
      "cell_type": "markdown",
      "source": [
        "✅ Tip: Use smaller dtypes (like float32, int16) when working with large datasets to save memory."
      ],
      "metadata": {
        "id": "cz6-_8BZrCTm"
      }
    },
    {
      "cell_type": "markdown",
      "source": [
        "**🧠 Memory Hook Example:**\n",
        "\n",
        "Python List = Garage with different boxes (flexible, messy)\n",
        "\n",
        "NumPy Array = Warehouse with identical containers (efficient, fast)"
      ],
      "metadata": {
        "id": "CnjkiY5erGfo"
      }
    }
  ]
}