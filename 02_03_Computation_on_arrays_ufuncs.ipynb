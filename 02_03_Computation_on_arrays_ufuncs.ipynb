{
  "nbformat": 4,
  "nbformat_minor": 0,
  "metadata": {
    "colab": {
      "provenance": [],
      "authorship_tag": "ABX9TyO8D5NRafjsMDS6Qh1K9SzD",
      "include_colab_link": true
    },
    "kernelspec": {
      "name": "python3",
      "display_name": "Python 3"
    },
    "language_info": {
      "name": "python"
    }
  },
  "cells": [
    {
      "cell_type": "markdown",
      "metadata": {
        "id": "view-in-github",
        "colab_type": "text"
      },
      "source": [
        "<a href=\"https://colab.research.google.com/github/Saifullah785/python-data-science-handbook-notes/blob/main/02_03_Computation_on_arrays_ufuncs.ipynb\" target=\"_parent\"><img src=\"https://colab.research.google.com/assets/colab-badge.svg\" alt=\"Open In Colab\"/></a>"
      ]
    },
    {
      "cell_type": "markdown",
      "source": [
        "# **Ten-point summary highlighting the key concepts demonstrated in notebook on NumPy Universal Functions (ufuncs):**\n",
        "\n",
        "**Problem:**\n",
        "\n",
        "Standard Python loops are slow for element-wise array computations.\n",
        "\n",
        "**Solution:**\n",
        "\n",
        "NumPy provides Universal Functions (ufuncs) for fast, vectorized operations.\n",
        "\n",
        "**What are Ufuncs?**\n",
        "\n",
        "Functions operating element-by-element on arrays, implemented efficiently in compiled code.\n",
        "\n",
        "**Performance:**\n",
        "\n",
        "Ufuncs significantly outperform Python loops by avoiding Python-level overhead.\n",
        "\n",
        "**Analogy:**\n",
        "\n",
        "Think of loops as a single worker and ufuncs as an assembly line.\n",
        "\n",
        "**Basic Operations:**\n",
        "\n",
        "Ufuncs cover standard arithmetic (+, -, *, /), absolute value, and more, often accessible via operators.\n",
        "\n",
        "**Mathematical Functions:**\n",
        "\n",
        "Ufuncs provide efficient ways to compute trigonometric, exponential, and logarithmic functions on entire arrays.\n",
        "\n",
        "**Specialized Functions:**\n",
        "\n",
        "SciPy's special module offers more advanced mathematical ufuncs (e.g., gamma, error functions).\n",
        "\n",
        "**Advanced Features:**\n",
        "\n",
        "Ufuncs support features like specifying output arrays (out) for in-place operations.\n",
        "\n",
        "**Array Methods:**\n",
        "\n",
        "Ufuncs also have methods (reduce, accumulate, outer) for aggregation and outer products across array dimensions."
      ],
      "metadata": {
        "id": "oEZwrEPWGJk-"
      }
    },
    {
      "cell_type": "markdown",
      "source": [
        "# **Computation on NumPy Arrays: Universal Functions**\n",
        "\n",
        "Introduces the concept of Universal Functions (ufuncs) in NumPy as a way to perform fast, element-wise operations on arrays.\n",
        "\n",
        "\n",
        "**The Slowness of Loops**\n",
        "\n",
        "Demonstrates the performance limitations of standard Python loops when performing computations on large arrays."
      ],
      "metadata": {
        "id": "gfzJwK8O7Rgr"
      }
    },
    {
      "cell_type": "code",
      "execution_count": 2,
      "metadata": {
        "id": "VqDWZoXdpK2d",
        "colab": {
          "base_uri": "https://localhost:8080/"
        },
        "outputId": "d9d835e7-c9fc-44e4-b040-1448fe32d699"
      },
      "outputs": [
        {
          "output_type": "execute_result",
          "data": {
            "text/plain": [
              "array([0.11111111, 0.25      , 1.        , 0.33333333, 0.125     ])"
            ]
          },
          "metadata": {},
          "execution_count": 2
        }
      ],
      "source": [
        "# Define a function to compute reciprocals using a standard Python loop\n",
        "\n",
        "import numpy as np\n",
        "rng = np.random.default_rng(seed=1701)\n",
        "\n",
        "def compute_reciprocals(values):\n",
        "    output = np.empty(len(values))\n",
        "\n",
        "    # Loop through each element and compute its reciprocal\n",
        "    for i in range(len(values)):\n",
        "        output[i] = 1.0 / values[i]\n",
        "    return output\n",
        "\n",
        "# Create a small array of integers\n",
        "values = rng.integers(1, 10, size=5)\n",
        "\n",
        "# Compute reciprocals using the loop function and print the result\n",
        "compute_reciprocals(values)"
      ]
    },
    {
      "cell_type": "code",
      "source": [
        "values"
      ],
      "metadata": {
        "colab": {
          "base_uri": "https://localhost:8080/"
        },
        "id": "pZfM7NJ7ATbC",
        "outputId": "85298b43-516f-4aad-fd90-0f8979911222"
      },
      "execution_count": 5,
      "outputs": [
        {
          "output_type": "execute_result",
          "data": {
            "text/plain": [
              "array([9, 4, 1, 3, 8])"
            ]
          },
          "metadata": {},
          "execution_count": 5
        }
      ]
    },
    {
      "cell_type": "code",
      "source": [
        "# Create a large array for performance testing\n",
        "\n",
        "big_array = rng.integers(1, 100, size=1000000)\n",
        "\n",
        "# Measure the time it takes to compute reciprocals using the loop function\n",
        "\n",
        "%timeit compute_reciprocals(big_array)"
      ],
      "metadata": {
        "colab": {
          "base_uri": "https://localhost:8080/"
        },
        "id": "TZYIJoPT7hsP",
        "outputId": "929b324d-fa5f-4576-9b3e-d3b48f3901dc"
      },
      "execution_count": 3,
      "outputs": [
        {
          "output_type": "stream",
          "name": "stdout",
          "text": [
            "2.21 s ± 280 ms per loop (mean ± std. dev. of 7 runs, 1 loop each)\n"
          ]
        }
      ]
    },
    {
      "cell_type": "code",
      "source": [
        "big_array"
      ],
      "metadata": {
        "colab": {
          "base_uri": "https://localhost:8080/"
        },
        "id": "k7D4LWyHAw5Z",
        "outputId": "da5113c6-274b-4b7d-edf3-0c66c212c5c3"
      },
      "execution_count": 7,
      "outputs": [
        {
          "output_type": "execute_result",
          "data": {
            "text/plain": [
              "array([67, 40, 16, ..., 64, 26, 61])"
            ]
          },
          "metadata": {},
          "execution_count": 7
        }
      ]
    },
    {
      "cell_type": "markdown",
      "source": [
        "# **Introducing Ufuncs**\n",
        "\n",
        "Shows how ufuncs provide a vectorized and significantly faster alternative to explicit loops for array operations."
      ],
      "metadata": {
        "id": "aBgkqUfG5agG"
      }
    },
    {
      "cell_type": "code",
      "source": [
        "# Print the result of the loop-based reciprocal calculation for comparison\n",
        "\n",
        "print(compute_reciprocals(values))\n",
        "\n",
        "# Compute reciprocals using a NumPy ufunc (vectorized operation) and print the result\n",
        "\n",
        "print(1.0 / values)"
      ],
      "metadata": {
        "colab": {
          "base_uri": "https://localhost:8080/"
        },
        "id": "PsxaF1Xn0DU4",
        "outputId": "40cc29a7-56bc-42e8-a031-9455296c7789"
      },
      "execution_count": 4,
      "outputs": [
        {
          "output_type": "stream",
          "name": "stdout",
          "text": [
            "[0.11111111 0.25       1.         0.33333333 0.125     ]\n",
            "[0.11111111 0.25       1.         0.33333333 0.125     ]\n"
          ]
        }
      ]
    },
    {
      "cell_type": "code",
      "source": [
        "# Measure the time it takes to compute reciprocals using the NumPy ufunc\n",
        "\n",
        "%timeit (1.0 / big_array)"
      ],
      "metadata": {
        "colab": {
          "base_uri": "https://localhost:8080/"
        },
        "id": "QkRioVY15TNZ",
        "outputId": "6bd948f5-2714-48f4-8d36-12cd95f71d78"
      },
      "execution_count": 6,
      "outputs": [
        {
          "output_type": "stream",
          "name": "stdout",
          "text": [
            "2.08 ms ± 61.5 µs per loop (mean ± std. dev. of 7 runs, 100 loops each)\n"
          ]
        }
      ]
    },
    {
      "cell_type": "code",
      "source": [
        "# Example of performing element-wise division between two NumPy arrays using a ufunc\n",
        "\n",
        "np.arange(5) / np.arange(1, 6)"
      ],
      "metadata": {
        "colab": {
          "base_uri": "https://localhost:8080/"
        },
        "id": "OFjxU0j45Up5",
        "outputId": "b55972e8-20a1-4902-fbbb-32367936a990"
      },
      "execution_count": 8,
      "outputs": [
        {
          "output_type": "execute_result",
          "data": {
            "text/plain": [
              "array([0.        , 0.5       , 0.66666667, 0.75      , 0.8       ])"
            ]
          },
          "metadata": {},
          "execution_count": 8
        }
      ]
    },
    {
      "cell_type": "code",
      "source": [
        "# Example of performing element-wise exponentiation using a ufunc\n",
        "\n",
        "x = np.arange(9).reshape((3, 3))\n",
        "2 ** x"
      ],
      "metadata": {
        "colab": {
          "base_uri": "https://localhost:8080/"
        },
        "id": "WqbMnYvY5WMc",
        "outputId": "f55bef46-1dfc-4b49-94f8-9cd2ddd8343a"
      },
      "execution_count": 9,
      "outputs": [
        {
          "output_type": "execute_result",
          "data": {
            "text/plain": [
              "array([[  1,   2,   4],\n",
              "       [  8,  16,  32],\n",
              "       [ 64, 128, 256]])"
            ]
          },
          "metadata": {},
          "execution_count": 9
        }
      ]
    },
    {
      "cell_type": "code",
      "source": [
        "x"
      ],
      "metadata": {
        "colab": {
          "base_uri": "https://localhost:8080/"
        },
        "id": "m0-PzJ26BJu9",
        "outputId": "ea13370b-79b6-4058-d0a5-fd2e17efe2f0"
      },
      "execution_count": 10,
      "outputs": [
        {
          "output_type": "execute_result",
          "data": {
            "text/plain": [
              "array([[0, 1, 2],\n",
              "       [3, 4, 5],\n",
              "       [6, 7, 8]])"
            ]
          },
          "metadata": {},
          "execution_count": 10
        }
      ]
    },
    {
      "cell_type": "markdown",
      "source": [
        "# **Exploring NumPy's Ufuncs**\n",
        "\n",
        "Provides an overview of the various types of ufuncs available in NumPy for different mathematical and logical operations."
      ],
      "metadata": {
        "id": "m0dirFEB5iVH"
      }
    },
    {
      "cell_type": "markdown",
      "source": [
        "**Array Arithmetic**\n",
        "\n",
        "Covers the basic arithmetic operations that can be performed efficiently on NumPy arrays using ufuncs."
      ],
      "metadata": {
        "id": "-ei0xjfM5l3s"
      }
    },
    {
      "cell_type": "code",
      "source": [
        "# Create a NumPy array for arithmetic examples\n",
        "\n",
        "x = np.arange(4)\n",
        "print(\"x      =\", x)\n",
        "print(\"x + 5  =\", x + 5)\n",
        "print(\"x - 5  =\", x - 5)\n",
        "print(\"x * 2  =\", x * 2)\n",
        "print(\"x / 2  =\", x / 2)\n",
        "print(\"x // 2 =\", x // 2)  # floor division"
      ],
      "metadata": {
        "colab": {
          "base_uri": "https://localhost:8080/"
        },
        "id": "RemtI7Iu5jil",
        "outputId": "c9485b4b-7f77-425b-88c8-49b048355910"
      },
      "execution_count": 11,
      "outputs": [
        {
          "output_type": "stream",
          "name": "stdout",
          "text": [
            "x      = [0 1 2 3]\n",
            "x + 5  = [5 6 7 8]\n",
            "x - 5  = [-5 -4 -3 -2]\n",
            "x * 2  = [0 2 4 6]\n",
            "x / 2  = [0.  0.5 1.  1.5]\n",
            "x // 2 = [0 0 1 1]\n"
          ]
        }
      ]
    },
    {
      "cell_type": "code",
      "source": [
        "x"
      ],
      "metadata": {
        "colab": {
          "base_uri": "https://localhost:8080/"
        },
        "id": "09qMQl6sBZ06",
        "outputId": "a095a010-bfe9-4034-9890-499fd1360409"
      },
      "execution_count": 12,
      "outputs": [
        {
          "output_type": "execute_result",
          "data": {
            "text/plain": [
              "array([0, 1, 2, 3])"
            ]
          },
          "metadata": {},
          "execution_count": 12
        }
      ]
    },
    {
      "cell_type": "code",
      "source": [
        "# Perform and print more element-wise arithmetic operations\n",
        "\n",
        "print(\"-x     = \", -x)\n",
        "print(\"x ** 2 = \", x ** 2)\n",
        "print(\"x % 2  = \", x % 2)"
      ],
      "metadata": {
        "colab": {
          "base_uri": "https://localhost:8080/"
        },
        "id": "IhO3cYdx5qy2",
        "outputId": "cf8e794f-83a5-473a-afe8-c88a081a4bcd"
      },
      "execution_count": 13,
      "outputs": [
        {
          "output_type": "stream",
          "name": "stdout",
          "text": [
            "-x     =  [ 0 -1 -2 -3]\n",
            "x ** 2 =  [0 1 4 9]\n",
            "x % 2  =  [0 1 0 1]\n"
          ]
        }
      ]
    },
    {
      "cell_type": "code",
      "source": [
        "# Example of a compound arithmetic operation using ufuncs\n",
        "\n",
        "-(0.5*x + 1) ** 2"
      ],
      "metadata": {
        "colab": {
          "base_uri": "https://localhost:8080/"
        },
        "id": "vZmECrdu5sf2",
        "outputId": "7c809f81-34c5-4ce6-a505-8a6899201a8f"
      },
      "execution_count": 14,
      "outputs": [
        {
          "output_type": "execute_result",
          "data": {
            "text/plain": [
              "array([-1.  , -2.25, -4.  , -6.25])"
            ]
          },
          "metadata": {},
          "execution_count": 14
        }
      ]
    },
    {
      "cell_type": "code",
      "source": [
        "# Example of using the explicit ufunc function for addition\n",
        "\n",
        "np.add(x, 2)"
      ],
      "metadata": {
        "colab": {
          "base_uri": "https://localhost:8080/"
        },
        "id": "bN1yrl0p5uB4",
        "outputId": "2acbe5cc-0c3f-4642-c058-8530fdf81a4a"
      },
      "execution_count": 15,
      "outputs": [
        {
          "output_type": "execute_result",
          "data": {
            "text/plain": [
              "array([2, 3, 4, 5])"
            ]
          },
          "metadata": {},
          "execution_count": 15
        }
      ]
    },
    {
      "cell_type": "markdown",
      "source": [
        "# **✅ Equivalents of arithmetic operators:**\n",
        "\n",
        "Presents a table mapping standard Python arithmetic operators to their corresponding NumPy ufuncs."
      ],
      "metadata": {
        "id": "4DBPj-cl56wL"
      }
    },
    {
      "cell_type": "markdown",
      "source": [
        "| Python Op | NumPy ufunc         | Example        |\n",
        "| --------- | ------------------- | -------------- |\n",
        "| `+`       | `np.add(x, y)`      | `np.add(x, 2)` |\n",
        "| `-`       | `np.subtract(x, y)` | `x - 3`        |\n",
        "| `*`       | `np.multiply(x, y)` | `x * 5`        |\n",
        "| `/`       | `np.divide(x, y)`   | `x / 2`        |\n",
        "| `//`      | `np.floor_divide()` | `x // 2`       |\n",
        "| `**`      | `np.power()`        | `x ** 3`       |\n",
        "| `%`       | `np.mod()`          | `x % 2`        |\n"
      ],
      "metadata": {
        "id": "qFm4bLbq6AYc"
      }
    },
    {
      "cell_type": "markdown",
      "source": [
        "# **Absolute Value**\n",
        "\n",
        "Explains how to calculate the absolute value of elements in an array using NumPy's ufuncs."
      ],
      "metadata": {
        "id": "bDMTsiBU6EFI"
      }
    },
    {
      "cell_type": "code",
      "source": [
        "# Create a NumPy array with positive and negative numbers\n",
        "\n",
        "x = np.array([-2, -1, 0, 1, 2])\n",
        "abs(x)"
      ],
      "metadata": {
        "colab": {
          "base_uri": "https://localhost:8080/"
        },
        "id": "abIb7hcQ59QE",
        "outputId": "8f7b979d-b561-43c8-d8cd-40d0ce1748ce"
      },
      "execution_count": 16,
      "outputs": [
        {
          "output_type": "execute_result",
          "data": {
            "text/plain": [
              "array([2, 1, 0, 1, 2])"
            ]
          },
          "metadata": {},
          "execution_count": 16
        }
      ]
    },
    {
      "cell_type": "code",
      "source": [
        "np.absolute(x)"
      ],
      "metadata": {
        "colab": {
          "base_uri": "https://localhost:8080/"
        },
        "id": "P0lBPlpe6JO-",
        "outputId": "500fbe21-8daa-4d1b-ed6c-0e4a56a561f0"
      },
      "execution_count": 17,
      "outputs": [
        {
          "output_type": "execute_result",
          "data": {
            "text/plain": [
              "array([2, 1, 0, 1, 2])"
            ]
          },
          "metadata": {},
          "execution_count": 17
        }
      ]
    },
    {
      "cell_type": "code",
      "source": [
        "np.abs(x)"
      ],
      "metadata": {
        "colab": {
          "base_uri": "https://localhost:8080/"
        },
        "id": "A_CDGBki6KwG",
        "outputId": "3c4cb8a4-0133-4ea4-9d18-e71b6f8874e6"
      },
      "execution_count": 18,
      "outputs": [
        {
          "output_type": "execute_result",
          "data": {
            "text/plain": [
              "array([2, 1, 0, 1, 2])"
            ]
          },
          "metadata": {},
          "execution_count": 18
        }
      ]
    },
    {
      "cell_type": "code",
      "source": [
        "# Compute the absolute value of complex numbers using np.abs()\n",
        "\n",
        "x = np.array([3 - 4j, 4 - 3j, 2 + 0j, 0 + 1j])\n",
        "np.abs(x)"
      ],
      "metadata": {
        "colab": {
          "base_uri": "https://localhost:8080/"
        },
        "id": "HxtUaMEQ6MOs",
        "outputId": "1396dd35-c63a-4f04-becc-c777dc83a601"
      },
      "execution_count": 19,
      "outputs": [
        {
          "output_type": "execute_result",
          "data": {
            "text/plain": [
              "array([5., 5., 2., 1.])"
            ]
          },
          "metadata": {},
          "execution_count": 19
        }
      ]
    },
    {
      "cell_type": "markdown",
      "source": [
        "# **Trigonometric Functions**\n",
        "\n",
        " Shows how to apply trigonometric functions (like sin, cos, tan) to array elements using NumPy ufuncs."
      ],
      "metadata": {
        "id": "BuB364n96O3Y"
      }
    },
    {
      "cell_type": "code",
      "source": [
        "# Create an array of angles in radians\n",
        "\n",
        "theta = np.linspace(0, np.pi, 3)"
      ],
      "metadata": {
        "id": "M1o2gX3g6RIt"
      },
      "execution_count": 20,
      "outputs": []
    },
    {
      "cell_type": "code",
      "source": [
        "# Compute and print the sine, cosine, and tangent of the angles using NumPy ufuncs\n",
        "\n",
        "print(\"theta      = \", theta)\n",
        "print(\"sin(theta) = \", np.sin(theta))\n",
        "print(\"cos(theta) = \", np.cos(theta))\n",
        "print(\"tan(theta) = \", np.tan(theta))"
      ],
      "metadata": {
        "colab": {
          "base_uri": "https://localhost:8080/"
        },
        "id": "navWZPul6Twx",
        "outputId": "76c1a1a7-c47e-42ff-d6dc-0d3b159c724d"
      },
      "execution_count": 21,
      "outputs": [
        {
          "output_type": "stream",
          "name": "stdout",
          "text": [
            "theta      =  [0.         1.57079633 3.14159265]\n",
            "sin(theta) =  [0.0000000e+00 1.0000000e+00 1.2246468e-16]\n",
            "cos(theta) =  [ 1.000000e+00  6.123234e-17 -1.000000e+00]\n",
            "tan(theta) =  [ 0.00000000e+00  1.63312394e+16 -1.22464680e-16]\n"
          ]
        }
      ]
    },
    {
      "cell_type": "code",
      "source": [
        "# Create an array for inverse trigonometric functions\n",
        "\n",
        "x = [-1, 0, 1]\n",
        "print(\"x         = \", x)\n",
        "print(\"arcsin(x) = \", np.arcsin(x))\n",
        "print(\"arccos(x) = \", np.arccos(x))\n",
        "print(\"arctan(x) = \", np.arctan(x))"
      ],
      "metadata": {
        "colab": {
          "base_uri": "https://localhost:8080/"
        },
        "id": "5KKPlr4T6V0n",
        "outputId": "65f5e872-a057-4297-9fe9-ee72c0e0beab"
      },
      "execution_count": 22,
      "outputs": [
        {
          "output_type": "stream",
          "name": "stdout",
          "text": [
            "x         =  [-1, 0, 1]\n",
            "arcsin(x) =  [-1.57079633  0.          1.57079633]\n",
            "arccos(x) =  [3.14159265 1.57079633 0.        ]\n",
            "arctan(x) =  [-0.78539816  0.          0.78539816]\n"
          ]
        }
      ]
    },
    {
      "cell_type": "markdown",
      "source": [
        "# **Exponents and Logarithms**\n",
        "\n",
        "Demonstrates the use of ufuncs for exponential and logarithmic calculations on array elements."
      ],
      "metadata": {
        "id": "kTkJUem96ZbJ"
      }
    },
    {
      "cell_type": "code",
      "source": [
        "# Create an array for exponential examples\n",
        "\n",
        "x = [1, 2, 3]\n",
        "print(\"x   =\", x)\n",
        "print(\"e^x =\", np.exp(x))\n",
        "print(\"2^x =\", np.exp2(x))\n",
        "print(\"3^x =\", np.power(3., x))"
      ],
      "metadata": {
        "colab": {
          "base_uri": "https://localhost:8080/"
        },
        "id": "kcBHPq_x6c4a",
        "outputId": "0562204a-4639-4694-cf95-79ec362dca21"
      },
      "execution_count": 23,
      "outputs": [
        {
          "output_type": "stream",
          "name": "stdout",
          "text": [
            "x   = [1, 2, 3]\n",
            "e^x = [ 2.71828183  7.3890561  20.08553692]\n",
            "2^x = [2. 4. 8.]\n",
            "3^x = [ 3.  9. 27.]\n"
          ]
        }
      ]
    },
    {
      "cell_type": "code",
      "source": [
        "# Create an array for logarithmic examples\n",
        "\n",
        "x = [1, 2, 4, 10]\n",
        "print(\"x        =\", x)\n",
        "print(\"ln(x)    =\", np.log(x))\n",
        "print(\"log2(x)  =\", np.log2(x))\n",
        "print(\"log10(x) =\", np.log10(x))"
      ],
      "metadata": {
        "colab": {
          "base_uri": "https://localhost:8080/"
        },
        "id": "_VRP-6FU6fN8",
        "outputId": "b99e66e3-0df6-499e-9d47-3a91cb1fffff"
      },
      "execution_count": 24,
      "outputs": [
        {
          "output_type": "stream",
          "name": "stdout",
          "text": [
            "x        = [1, 2, 4, 10]\n",
            "ln(x)    = [0.         0.69314718 1.38629436 2.30258509]\n",
            "log2(x)  = [0.         1.         2.         3.32192809]\n",
            "log10(x) = [0.         0.30103    0.60205999 1.        ]\n"
          ]
        }
      ]
    },
    {
      "cell_type": "code",
      "source": [
        "# Create an array for specialized exponential and logarithmic functions\n",
        "\n",
        "x = [0, 0.001, 0.01, 0.1]\n",
        "print(\"exp(x) - 1 =\", np.expm1(x))\n",
        "print(\"log(1 + x) =\", np.log1p(x))"
      ],
      "metadata": {
        "colab": {
          "base_uri": "https://localhost:8080/"
        },
        "id": "77Fp9w7l6gfr",
        "outputId": "0bf0ec06-abfe-4a8b-bfb9-b1c7e7bb1c80"
      },
      "execution_count": 25,
      "outputs": [
        {
          "output_type": "stream",
          "name": "stdout",
          "text": [
            "exp(x) - 1 = [0.         0.0010005  0.01005017 0.10517092]\n",
            "log(1 + x) = [0.         0.0009995  0.00995033 0.09531018]\n"
          ]
        }
      ]
    },
    {
      "cell_type": "markdown",
      "source": [
        "# **Specialized Ufuncs**\n",
        "\n",
        " Introduces ufuncs from the scipy.special module for more advanced mathematical functions"
      ],
      "metadata": {
        "id": "PWaLrelN6jt5"
      }
    },
    {
      "cell_type": "code",
      "source": [
        "# Import the special module from SciPy\n",
        "\n",
        "from scipy import special"
      ],
      "metadata": {
        "id": "k-vlzI8l6q7M"
      },
      "execution_count": 26,
      "outputs": []
    },
    {
      "cell_type": "code",
      "source": [
        "# Gamma functions (generalized factorials) and related functions\n",
        "\n",
        "# Create an array for gamma and beta function examples\n",
        "\n",
        "x = [1, 5, 10]\n",
        "print(\"gamma(x)     =\", special.gamma(x))\n",
        "print(\"ln|gamma(x)| =\", special.gammaln(x))\n",
        "print(\"beta(x, 2)   =\", special.beta(x, 2))"
      ],
      "metadata": {
        "colab": {
          "base_uri": "https://localhost:8080/"
        },
        "id": "HCSOPLwC6tlR",
        "outputId": "2a2b2d19-c495-48b7-e880-e1d15deb8954"
      },
      "execution_count": 27,
      "outputs": [
        {
          "output_type": "stream",
          "name": "stdout",
          "text": [
            "gamma(x)     = [1.0000e+00 2.4000e+01 3.6288e+05]\n",
            "ln|gamma(x)| = [ 0.          3.17805383 12.80182748]\n",
            "beta(x, 2)   = [0.5        0.03333333 0.00909091]\n"
          ]
        }
      ]
    },
    {
      "cell_type": "code",
      "source": [
        "# Error function (integral of Gaussian),\n",
        "# its complement, and its inverse\n",
        "\n",
        "# Create an array for error function examples\n",
        "\n",
        "x = np.array([0, 0.3, 0.7, 1.0])\n",
        "\n",
        "# Compute and print the error function, complementary error function, and inverse error function using SciPy's special ufuncs\n",
        "\n",
        "print(\"erf(x)  =\", special.erf(x))\n",
        "print(\"erfc(x) =\", special.erfc(x))\n",
        "print(\"erfinv(x) =\", special.erfinv(x))"
      ],
      "metadata": {
        "colab": {
          "base_uri": "https://localhost:8080/"
        },
        "id": "dxlmTlmR6vk2",
        "outputId": "b84e9685-9b94-49f3-deca-2c908d314c96"
      },
      "execution_count": 28,
      "outputs": [
        {
          "output_type": "stream",
          "name": "stdout",
          "text": [
            "erf(x)  = [0.         0.32862676 0.67780119 0.84270079]\n",
            "erfc(x) = [1.         0.67137324 0.32219881 0.15729921]\n",
            "erfinv(x) = [0.         0.27246271 0.73286908        inf]\n"
          ]
        }
      ]
    },
    {
      "cell_type": "markdown",
      "source": [
        "# **Advanced Ufunc Features**\n",
        "\n",
        " Explores some of the more advanced capabilities of ufuncs beyond basic element-wise operations."
      ],
      "metadata": {
        "id": "E0h3bpvS6x3x"
      }
    },
    {
      "cell_type": "markdown",
      "source": [
        "**Specifying Output**\n",
        "\n",
        "Shows how to use the out argument in ufuncs to specify where the results of an operation should be stored."
      ],
      "metadata": {
        "id": "209cRFNC61b8"
      }
    },
    {
      "cell_type": "code",
      "source": [
        "# Create an input array\n",
        "# Create an empty output array of the same size\n",
        "# Perform element-wise multiplication and store the result directly in the output array 'y'\n",
        "# Print the output array\n",
        "\n",
        "x = np.arange(5)\n",
        "y = np.empty(5)\n",
        "np.multiply(x, 10, out=y)\n",
        "print(y)"
      ],
      "metadata": {
        "colab": {
          "base_uri": "https://localhost:8080/"
        },
        "id": "0t4y6oci63Fk",
        "outputId": "a8ba95cf-7425-4d24-e23c-2d27bdf89b02"
      },
      "execution_count": 29,
      "outputs": [
        {
          "output_type": "stream",
          "name": "stdout",
          "text": [
            "[ 0. 10. 20. 30. 40.]\n"
          ]
        }
      ]
    },
    {
      "cell_type": "code",
      "source": [
        "# Create an output array with more elements\n",
        "# Perform element-wise power operation and store the result in specific indices of the output array\n",
        "# Print the output array\n",
        "\n",
        "y = np.zeros(10)\n",
        "np.power(2, x, out=y[::2])\n",
        "print(y)"
      ],
      "metadata": {
        "colab": {
          "base_uri": "https://localhost:8080/"
        },
        "id": "cE_8zr-565sj",
        "outputId": "a34ffb1c-6d73-4887-b793-88e194b71ceb"
      },
      "execution_count": 30,
      "outputs": [
        {
          "output_type": "stream",
          "name": "stdout",
          "text": [
            "[ 1.  0.  2.  0.  4.  0.  8.  0. 16.  0.]\n"
          ]
        }
      ]
    },
    {
      "cell_type": "markdown",
      "source": [
        "**Aggregations**\n",
        "\n",
        "Explains how ufuncs can be used to perform aggregation operations (like sum and product) on arrays."
      ],
      "metadata": {
        "id": "ej-dp5Wn67kP"
      }
    },
    {
      "cell_type": "code",
      "source": [
        "# Create an array for aggregation examples\n",
        "\n",
        "x = np.arange(1, 6)\n",
        "\n",
        "# Compute the sum of all elements using the reduce method of the add ufunc\n",
        "\n",
        "np.add.reduce(x)"
      ],
      "metadata": {
        "colab": {
          "base_uri": "https://localhost:8080/"
        },
        "id": "61iGiRGz6-0V",
        "outputId": "fa68a657-eb38-4091-8ac0-1cb118f43f97"
      },
      "execution_count": 31,
      "outputs": [
        {
          "output_type": "execute_result",
          "data": {
            "text/plain": [
              "np.int64(15)"
            ]
          },
          "metadata": {},
          "execution_count": 31
        }
      ]
    },
    {
      "cell_type": "code",
      "source": [
        "# Compute the product of all elements using the reduce method of the multiply ufunc\n",
        "\n",
        "np.multiply.reduce(x)"
      ],
      "metadata": {
        "colab": {
          "base_uri": "https://localhost:8080/"
        },
        "id": "kSW7GT_a7BSA",
        "outputId": "e86921ff-a2f3-4cdd-e65d-d0e36a3473c8"
      },
      "execution_count": 32,
      "outputs": [
        {
          "output_type": "execute_result",
          "data": {
            "text/plain": [
              "np.int64(120)"
            ]
          },
          "metadata": {},
          "execution_count": 32
        }
      ]
    },
    {
      "cell_type": "code",
      "source": [
        "# Compute the cumulative sum of elements using the accumulate method of the add ufunc\n",
        "\n",
        "np.add.accumulate(x)"
      ],
      "metadata": {
        "colab": {
          "base_uri": "https://localhost:8080/"
        },
        "id": "pghPskU_7DOi",
        "outputId": "1b2cbd3d-96e7-404f-9ddf-6ae53642309e"
      },
      "execution_count": 33,
      "outputs": [
        {
          "output_type": "execute_result",
          "data": {
            "text/plain": [
              "array([ 1,  3,  6, 10, 15])"
            ]
          },
          "metadata": {},
          "execution_count": 33
        }
      ]
    },
    {
      "cell_type": "code",
      "source": [
        "# Compute the cumulative product of elements using the accumulate method of the multiply ufunc\n",
        "\n",
        "np.multiply.accumulate(x)"
      ],
      "metadata": {
        "colab": {
          "base_uri": "https://localhost:8080/"
        },
        "id": "AWGKLjFy7Ey-",
        "outputId": "87f32034-34e8-4430-f94d-feb35c6f6084"
      },
      "execution_count": 34,
      "outputs": [
        {
          "output_type": "execute_result",
          "data": {
            "text/plain": [
              "array([  1,   2,   6,  24, 120])"
            ]
          },
          "metadata": {},
          "execution_count": 34
        }
      ]
    },
    {
      "cell_type": "markdown",
      "source": [
        "**Outer Products**\n",
        "\n",
        "Demonstrates how to compute the outer product of two arrays using ufuncs."
      ],
      "metadata": {
        "id": "5z_E6joA7HCX"
      }
    },
    {
      "cell_type": "code",
      "source": [
        "# Create an array for the outer product example\n",
        "x = np.arange(1, 6)\n",
        "\n",
        "# Compute the outer product of the array with itself using the outer method of the multiply ufunc\n",
        "\n",
        "np.multiply.outer(x, x)"
      ],
      "metadata": {
        "colab": {
          "base_uri": "https://localhost:8080/"
        },
        "id": "j_LoGAv67Ilk",
        "outputId": "cc2b85a2-6649-4a66-b24c-d02848714250"
      },
      "execution_count": 35,
      "outputs": [
        {
          "output_type": "execute_result",
          "data": {
            "text/plain": [
              "array([[ 1,  2,  3,  4,  5],\n",
              "       [ 2,  4,  6,  8, 10],\n",
              "       [ 3,  6,  9, 12, 15],\n",
              "       [ 4,  8, 12, 16, 20],\n",
              "       [ 5, 10, 15, 20, 25]])"
            ]
          },
          "metadata": {},
          "execution_count": 35
        }
      ]
    }
  ]
}