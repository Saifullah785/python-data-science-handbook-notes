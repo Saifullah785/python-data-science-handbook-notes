{
  "nbformat": 4,
  "nbformat_minor": 0,
  "metadata": {
    "colab": {
      "provenance": [],
      "authorship_tag": "ABX9TyMFNMubX0NADHW5T7O3tCSN",
      "include_colab_link": true
    },
    "kernelspec": {
      "name": "python3",
      "display_name": "Python 3"
    },
    "language_info": {
      "name": "python"
    }
  },
  "cells": [
    {
      "cell_type": "markdown",
      "metadata": {
        "id": "view-in-github",
        "colab_type": "text"
      },
      "source": [
        "<a href=\"https://colab.research.google.com/github/Saifullah785/python-data-science-handbook-notes/blob/main/02_06_Boolean_Arrays_and_Masks.ipynb\" target=\"_parent\"><img src=\"https://colab.research.google.com/assets/colab-badge.svg\" alt=\"Open In Colab\"/></a>"
      ]
    },
    {
      "cell_type": "markdown",
      "source": [
        "# **Comparisons, Masks, and Boolean Logic**\n",
        "\n",
        "\n",
        "---\n",
        "\n",
        "This section of your notebook introduces how to perform comparisons on NumPy arrays, use the results of these comparisons to create \"masks,\" and apply Boolean logic to manipulate these masks and select specific data."
      ],
      "metadata": {
        "id": "UIEYAtYMTb0t"
      }
    },
    {
      "cell_type": "markdown",
      "source": [
        "# **Example: Counting Rainy Days**\n",
        "\n",
        "\n",
        "---\n",
        "\n",
        "This is a practical example demonstrating how to use NumPy to analyze a dataset.\n",
        "\n",
        "**Load Data:**\n",
        "\n",
        "It loads weather data for Seattle using vega_datasets.\n",
        "\n",
        "**Extract Rainfall:**\n",
        "\n",
        "It extracts the precipitation data for the year 2015 and stores it as a NumPy array called rainfall_mm.\n",
        "\n",
        "**Visualize Data:**\n",
        "\n",
        "It uses matplotlib to create a histogram of the rainfall data, allowing you to see the distribution of rainfall amounts"
      ],
      "metadata": {
        "id": "i2sVgpW_TeM6"
      }
    },
    {
      "cell_type": "code",
      "execution_count": 88,
      "metadata": {
        "colab": {
          "base_uri": "https://localhost:8080/"
        },
        "id": "P-WzMQezKJoc",
        "outputId": "7118d3dd-6f7b-47af-8938-90b4044b599d"
      },
      "outputs": [
        {
          "output_type": "execute_result",
          "data": {
            "text/plain": [
              "365"
            ]
          },
          "metadata": {},
          "execution_count": 88
        }
      ],
      "source": [
        "# importing necessary libraries\n",
        "import numpy as np\n",
        "\n",
        "from vega_datasets import data\n",
        "\n",
        "# Use DataFrame operations to extract ranifall as a Numpy array\n",
        "# Load the seattle weather dataset and extract precipitation for 2015 as a NumPy array\n",
        "\n",
        "rainfall_mm = np.array(data.seattle_weather().set_index(\"date\")['precipitation']['2015'])\n",
        "\n",
        "# Print the length of the rainfall data\n",
        "len(rainfall_mm)\n"
      ]
    },
    {
      "cell_type": "code",
      "source": [
        "# Set the backend for matplotlib to display plots inline\n",
        "\n",
        "% natplotlib inline\n",
        "import matplotlib.pyplot as plt\n",
        "\n",
        "# Apply a seaborn style for better plot aesthetics\n",
        "\n",
        "plt.style.use('seaborn-whitegrid')\n"
      ],
      "metadata": {
        "colab": {
          "base_uri": "https://localhost:8080/"
        },
        "id": "BjIo5UtTWMlC",
        "outputId": "239737a5-b41e-42ec-cdc7-f99fcf5bb760"
      },
      "execution_count": 126,
      "outputs": [
        {
          "output_type": "stream",
          "name": "stderr",
          "text": [
            "UsageError: Line magic function `%` not found.\n"
          ]
        }
      ]
    },
    {
      "cell_type": "code",
      "source": [
        "# Create a histogram of the rainfall data with 40 bins\n",
        "\n",
        "plt.hist(rainfall_mm, 40);"
      ],
      "metadata": {
        "colab": {
          "base_uri": "https://localhost:8080/",
          "height": 430
        },
        "id": "uR8JBSduWu4Q",
        "outputId": "14219959-1e25-4adc-ae83-b5c0737a3e2f"
      },
      "execution_count": 125,
      "outputs": [
        {
          "output_type": "display_data",
          "data": {
            "text/plain": [
              "<Figure size 640x480 with 1 Axes>"
            ],
            "image/png": "[encoded data removed]"
          },
          "metadata": {}
        }
      ]
    },
    {
      "cell_type": "markdown",
      "source": [
        "# **Comparison Operators as Ufuncs**\n",
        "\n",
        "\n",
        "---\n",
        "\n",
        "This part explains how standard comparison operators (<, >, <=, >=, !=, ==) work with NumPy arrays.\n",
        "\n",
        "Element-wise Comparison: When you use a comparison operator with a NumPy array, it performs the comparison element by element.\n",
        "\n",
        "**Boolean Array Result:**\n",
        "\n",
        "The result of such a comparison is a new NumPy array of the same shape as the original, but filled with True or False values based on whether the comparison was true for each element"
      ],
      "metadata": {
        "id": "fQrpqjHiW_lA"
      }
    },
    {
      "cell_type": "code",
      "source": [
        "# Create a NumPy array\n",
        "\n",
        "x = np.array([1, 2, 3, 4, 5])\n",
        "x"
      ],
      "metadata": {
        "colab": {
          "base_uri": "https://localhost:8080/"
        },
        "id": "yfK7QHcjW-Hk",
        "outputId": "03d64b78-ac6d-46c2-dd7f-32041427b2ff"
      },
      "execution_count": 90,
      "outputs": [
        {
          "output_type": "execute_result",
          "data": {
            "text/plain": [
              "array([1, 2, 3, 4, 5])"
            ]
          },
          "metadata": {},
          "execution_count": 90
        }
      ]
    },
    {
      "cell_type": "code",
      "source": [
        "# Perform element-wise comparison: less than 3\n",
        "\n",
        "x < 3 # less than"
      ],
      "metadata": {
        "colab": {
          "base_uri": "https://localhost:8080/"
        },
        "id": "IM1V8hc7XPMP",
        "outputId": "c9a89b54-f9b5-42f0-b9ed-c2b0f7d163e5"
      },
      "execution_count": 91,
      "outputs": [
        {
          "output_type": "execute_result",
          "data": {
            "text/plain": [
              "array([ True,  True, False, False, False])"
            ]
          },
          "metadata": {},
          "execution_count": 91
        }
      ]
    },
    {
      "cell_type": "code",
      "source": [
        "# Perform element-wise comparison: greater than 3\n",
        "\n",
        "x > 3 # greater than"
      ],
      "metadata": {
        "colab": {
          "base_uri": "https://localhost:8080/"
        },
        "id": "ha89-1ycXUXw",
        "outputId": "33103352-4bfb-4401-d3b2-76695dcf9014"
      },
      "execution_count": 92,
      "outputs": [
        {
          "output_type": "execute_result",
          "data": {
            "text/plain": [
              "array([False, False, False,  True,  True])"
            ]
          },
          "metadata": {},
          "execution_count": 92
        }
      ]
    },
    {
      "cell_type": "code",
      "source": [
        "# Perform element-wise comparison: less than or equal to\n",
        "\n",
        "x <= 3  # less than or equal"
      ],
      "metadata": {
        "colab": {
          "base_uri": "https://localhost:8080/"
        },
        "id": "n07frbM8eHHU",
        "outputId": "4de02280-7bdb-443d-877f-f23139a1e007"
      },
      "execution_count": 93,
      "outputs": [
        {
          "output_type": "execute_result",
          "data": {
            "text/plain": [
              "array([ True,  True,  True, False, False])"
            ]
          },
          "metadata": {},
          "execution_count": 93
        }
      ]
    },
    {
      "cell_type": "code",
      "source": [
        "# Perform element-wise comparison: greater than or equal to 3\n",
        "\n",
        "x >= 3  # greater than or equal"
      ],
      "metadata": {
        "colab": {
          "base_uri": "https://localhost:8080/"
        },
        "id": "0IVOo8GTeN6E",
        "outputId": "2c19f54d-91ce-4386-fa6f-a59f99589ca4"
      },
      "execution_count": 94,
      "outputs": [
        {
          "output_type": "execute_result",
          "data": {
            "text/plain": [
              "array([False, False,  True,  True,  True])"
            ]
          },
          "metadata": {},
          "execution_count": 94
        }
      ]
    },
    {
      "cell_type": "code",
      "source": [
        "# Perform element-wise comparison: not equal to 3\n",
        "\n",
        "x != 3  # not equal"
      ],
      "metadata": {
        "colab": {
          "base_uri": "https://localhost:8080/"
        },
        "id": "9SiefbUfeRDl",
        "outputId": "16671a8b-7809-4d14-c2c4-0bb869bf9a69"
      },
      "execution_count": 95,
      "outputs": [
        {
          "output_type": "execute_result",
          "data": {
            "text/plain": [
              "array([ True,  True, False,  True,  True])"
            ]
          },
          "metadata": {},
          "execution_count": 95
        }
      ]
    },
    {
      "cell_type": "code",
      "source": [
        "# Perform element-wise comparison: equal to 3\n",
        "\n",
        "x == 3  # equal"
      ],
      "metadata": {
        "colab": {
          "base_uri": "https://localhost:8080/"
        },
        "id": "aZUzVvo9eWrF",
        "outputId": "6d67d376-685f-4997-f357-7a7402568286"
      },
      "execution_count": 96,
      "outputs": [
        {
          "output_type": "execute_result",
          "data": {
            "text/plain": [
              "array([False, False,  True, False, False])"
            ]
          },
          "metadata": {},
          "execution_count": 96
        }
      ]
    },
    {
      "cell_type": "code",
      "source": [
        "# Perform element-wise comparison: (2 * x) equals (x squared)\n",
        "\n",
        "(2 * x) == (x ** 2)"
      ],
      "metadata": {
        "colab": {
          "base_uri": "https://localhost:8080/"
        },
        "id": "XsD5xKNreaVm",
        "outputId": "6d11e4aa-c27e-4190-a30b-af38983a9152"
      },
      "execution_count": 97,
      "outputs": [
        {
          "output_type": "execute_result",
          "data": {
            "text/plain": [
              "array([False,  True, False, False, False])"
            ]
          },
          "metadata": {},
          "execution_count": 97
        }
      ]
    },
    {
      "cell_type": "code",
      "source": [
        "# Create a random number generator with a seed\n",
        "\n",
        "rng = np.random.default_rng(seed=1701)\n",
        "\n",
        "# Generate a 3x4 array of random integers between 0 and 9\n",
        "\n",
        "x = rng.integers(10, size=(3, 4))\n",
        "x"
      ],
      "metadata": {
        "colab": {
          "base_uri": "https://localhost:8080/"
        },
        "id": "Z8KGwQF2efte",
        "outputId": "d28ccd55-6c14-499c-9d3f-14f16dcee08f"
      },
      "execution_count": 98,
      "outputs": [
        {
          "output_type": "execute_result",
          "data": {
            "text/plain": [
              "array([[9, 4, 0, 3],\n",
              "       [8, 6, 3, 1],\n",
              "       [3, 7, 4, 0]])"
            ]
          },
          "metadata": {},
          "execution_count": 98
        }
      ]
    },
    {
      "cell_type": "code",
      "source": [
        "# Perform element-wise comparison: less than 6\n",
        "\n",
        "x < 6"
      ],
      "metadata": {
        "colab": {
          "base_uri": "https://localhost:8080/"
        },
        "id": "PuNfFq43eize",
        "outputId": "b2bdd40d-fb9b-4f84-b578-1379c651ee09"
      },
      "execution_count": 99,
      "outputs": [
        {
          "output_type": "execute_result",
          "data": {
            "text/plain": [
              "array([[False,  True,  True,  True],\n",
              "       [False, False,  True,  True],\n",
              "       [ True, False,  True,  True]])"
            ]
          },
          "metadata": {},
          "execution_count": 99
        }
      ]
    },
    {
      "cell_type": "markdown",
      "source": [
        "# **Working with Boolean Arrays**\n",
        "\n",
        "\n",
        "---\n",
        "\n",
        "This section focuses on what you can do with the Boolean arrays created by comparisons.\n",
        "\n",
        "**Displaying Boolean Arrays:**\n",
        "\n",
        "You can print the Boolean array to see the results of the element-wise comparisons."
      ],
      "metadata": {
        "id": "wfWhsX86em5p"
      }
    },
    {
      "cell_type": "code",
      "source": [
        "# Print the array x\n",
        "\n",
        "print(x)"
      ],
      "metadata": {
        "colab": {
          "base_uri": "https://localhost:8080/"
        },
        "id": "9eVGtu3eepIE",
        "outputId": "4e072845-48b5-4f37-8125-90a55a0f20c9"
      },
      "execution_count": 100,
      "outputs": [
        {
          "output_type": "stream",
          "name": "stdout",
          "text": [
            "[[9 4 0 3]\n",
            " [8 6 3 1]\n",
            " [3 7 4 0]]\n"
          ]
        }
      ]
    },
    {
      "cell_type": "markdown",
      "source": [
        "# **Counting Entries**\n",
        "\n",
        "\n",
        "---\n",
        "This demonstrates how to count the number of True values in a Boolean array, which corresponds to the number of elements that satisfy the comparison condition.\n",
        "\n",
        "**np.count_nonzero():**\n",
        "\n",
        "This function counts the number of non-zero elements in an array.\n",
        "\n",
        "Since True is treated as 1 and False as 0 in a numerical context, np.count_nonzero() on a Boolean array effectively counts the True values.\n",
        "\n",
        "**np.sum():**\n",
        "\n",
        "Similarly, np.sum() on a Boolean array sums the True values (treated as 1s).\n",
        "\n",
        "**Counting Along Axes:**\n",
        "\n",
        "You can use the axis argument with np.sum() to count True values along a specific dimension (e.g., counting how many values in each row meet the condition).\n",
        "\n",
        "**np.any():**\n",
        "\n",
        "This function checks if any element in a Boolean array is True.\n",
        "\n",
        "**np.all():**\n",
        "\n",
        "This function checks if all elements in a Boolean array are True.\n",
        "\n",
        "You can also use the axis argument here to check if all values along a specific dimension are True.\n"
      ],
      "metadata": {
        "id": "ugT4nCWweu18"
      }
    },
    {
      "cell_type": "code",
      "source": [
        "# This demonstrates how to count the number of True values in a Boolean array, which corresponds to the number of elements that satisfy the comparison condition.\n",
        "\n",
        "# This function counts the number of non-zero elements in an array.\n",
        "#\n",
        "# Since True is treated as 1 and False as 0 in a numerical context, np.count_nonzero() on a Boolean array effectively counts the True values.\n",
        "\n",
        "np.count_nonzero(x < 6)"
      ],
      "metadata": {
        "colab": {
          "base_uri": "https://localhost:8080/"
        },
        "id": "roR-lYegewTl",
        "outputId": "2446485a-28e4-4436-dfd1-ba8f699d57eb"
      },
      "execution_count": 101,
      "outputs": [
        {
          "output_type": "execute_result",
          "data": {
            "text/plain": [
              "8"
            ]
          },
          "metadata": {},
          "execution_count": 101
        }
      ]
    },
    {
      "cell_type": "code",
      "source": [
        "# Similarly, np.sum() on a Boolean array sums the True values (treated as 1s).\n",
        "\n",
        "np.sum(x < 6)"
      ],
      "metadata": {
        "colab": {
          "base_uri": "https://localhost:8080/"
        },
        "id": "gs94zzGie4Cg",
        "outputId": "73a4ddbd-8c1d-42bb-8a5d-58472b4a070a"
      },
      "execution_count": 102,
      "outputs": [
        {
          "output_type": "execute_result",
          "data": {
            "text/plain": [
              "np.int64(8)"
            ]
          },
          "metadata": {},
          "execution_count": 102
        }
      ]
    },
    {
      "cell_type": "code",
      "source": [
        "# how many values less than 6 in each row?\n",
        "np.sum(x < 6, axis=1)"
      ],
      "metadata": {
        "colab": {
          "base_uri": "https://localhost:8080/"
        },
        "id": "rk4BbPWXe580",
        "outputId": "c11a5f0b-fa80-4b29-de64-c9644a1bda35"
      },
      "execution_count": 103,
      "outputs": [
        {
          "output_type": "execute_result",
          "data": {
            "text/plain": [
              "array([3, 2, 3])"
            ]
          },
          "metadata": {},
          "execution_count": 103
        }
      ]
    },
    {
      "cell_type": "code",
      "source": [
        "# You can use the axis argument with np.sum() to count True values along a specific dimension\n",
        "#  (e.g., counting how many values in each row meet the condition).\n",
        "# are there any values greater than 8?\n",
        "\n",
        "np.any(x > 8)"
      ],
      "metadata": {
        "colab": {
          "base_uri": "https://localhost:8080/"
        },
        "id": "9foRatQTe-Pz",
        "outputId": "9f4fe834-87e0-4f75-f4ec-df6e8008ba2e"
      },
      "execution_count": 104,
      "outputs": [
        {
          "output_type": "execute_result",
          "data": {
            "text/plain": [
              "np.True_"
            ]
          },
          "metadata": {},
          "execution_count": 104
        }
      ]
    },
    {
      "cell_type": "code",
      "source": [
        "# are there any values less than zero?\n",
        "\n",
        "np.any(x < 0)"
      ],
      "metadata": {
        "colab": {
          "base_uri": "https://localhost:8080/"
        },
        "id": "Yk_kkj4AfBKO",
        "outputId": "d6d548bb-5dcd-4bd4-d292-d11a65c7b2a0"
      },
      "execution_count": 105,
      "outputs": [
        {
          "output_type": "execute_result",
          "data": {
            "text/plain": [
              "np.False_"
            ]
          },
          "metadata": {},
          "execution_count": 105
        }
      ]
    },
    {
      "cell_type": "code",
      "source": [
        "# are all values less than 10?\n",
        "\n",
        "np.all(x < 10)"
      ],
      "metadata": {
        "colab": {
          "base_uri": "https://localhost:8080/"
        },
        "id": "S2h89rHrfF8b",
        "outputId": "ab3d47d3-c620-4085-d639-ef69cc5debed"
      },
      "execution_count": 106,
      "outputs": [
        {
          "output_type": "execute_result",
          "data": {
            "text/plain": [
              "np.True_"
            ]
          },
          "metadata": {},
          "execution_count": 106
        }
      ]
    },
    {
      "cell_type": "code",
      "source": [
        "# are all values equal to 6?\n",
        "\n",
        "np.all(x == 6)"
      ],
      "metadata": {
        "colab": {
          "base_uri": "https://localhost:8080/"
        },
        "id": "LInJliLtfI1O",
        "outputId": "03b95b38-6856-4dc4-c9e3-13fcfd6ad783"
      },
      "execution_count": 107,
      "outputs": [
        {
          "output_type": "execute_result",
          "data": {
            "text/plain": [
              "np.False_"
            ]
          },
          "metadata": {},
          "execution_count": 107
        }
      ]
    },
    {
      "cell_type": "code",
      "source": [
        "# are all values in each row less than 8?\n",
        "np.all(x < 8, axis=1)"
      ],
      "metadata": {
        "colab": {
          "base_uri": "https://localhost:8080/"
        },
        "id": "Wn20rOQ9fLLA",
        "outputId": "75978360-95cc-4dba-e18f-3935a4c6f4d9"
      },
      "execution_count": 108,
      "outputs": [
        {
          "output_type": "execute_result",
          "data": {
            "text/plain": [
              "array([False, False,  True])"
            ]
          },
          "metadata": {},
          "execution_count": 108
        }
      ]
    },
    {
      "cell_type": "markdown",
      "source": [
        "# **Boolean Operators**\n",
        "\n",
        "\n",
        "---\n",
        "This section introduces how to combine Boolean arrays using logical operators.\n",
        "\n",
        "**Element-wise Logical Operations:**\n",
        "\n",
        "NumPy provides element-wise logical operators:\n",
        "\n",
        "& (and)\n",
        "\n",
        "| (or)\n",
        "\n",
        "^ (xor)\n",
        "\n",
        "~ (not)\n",
        "\n",
        "**Combining Conditions:**\n",
        "\n",
        "These operators allow you to combine multiple comparison results to select elements that meet more complex criteria (e.g., days with rainfall between 10 mm and 20 mm).\n"
      ],
      "metadata": {
        "id": "bsfiw7HGfN3h"
      }
    },
    {
      "cell_type": "code",
      "source": [
        "# Count the number of days where rainfall is greater than 10 mm AND less than 20 mm\n",
        "\n",
        "np.sum((rainfall_mm > 10) & (rainfall_mm < 20))"
      ],
      "metadata": {
        "colab": {
          "base_uri": "https://localhost:8080/"
        },
        "id": "bspz_YENfPoV",
        "outputId": "61614058-51bf-40c3-e342-0af7710dd5d8"
      },
      "execution_count": 109,
      "outputs": [
        {
          "output_type": "execute_result",
          "data": {
            "text/plain": [
              "np.int64(16)"
            ]
          },
          "metadata": {},
          "execution_count": 109
        }
      ]
    },
    {
      "cell_type": "code",
      "source": [
        "# Count the number of days where rainfall is NOT (less than or equal to 10 mm OR greater than or equal to 20 mm)\n",
        "\n",
        "np.sum(~( (rainfall_mm <= 10) | (rainfall_mm >= 20) ))"
      ],
      "metadata": {
        "colab": {
          "base_uri": "https://localhost:8080/"
        },
        "id": "syFETBhvfTSQ",
        "outputId": "7f609294-79f9-46b9-ea04-e230c7b7c639"
      },
      "execution_count": 110,
      "outputs": [
        {
          "output_type": "execute_result",
          "data": {
            "text/plain": [
              "np.int64(16)"
            ]
          },
          "metadata": {},
          "execution_count": 110
        }
      ]
    },
    {
      "cell_type": "code",
      "source": [
        "# Count the number of days with no rain\n",
        "\n",
        "print(\"Number days without rain:  \", np.sum(rainfall_mm == 0))\n",
        "\n",
        "# Count the number of days with rain\n",
        "\n",
        "print(\"Number days with rain:     \", np.sum(rainfall_mm != 0))\n",
        "\n",
        "# Count the number of days with more than 10 mm of rain\n",
        "\n",
        "print(\"Days with more than 10 mm: \", np.sum(rainfall_mm > 10))\n",
        "\n",
        "# Count the number of rainy days with less than 5 mm of rain\n",
        "\n",
        "print(\"Rainy days with < 5 mm:    \", np.sum((rainfall_mm > 0) &\n",
        "                                            (rainfall_mm < 5)))"
      ],
      "metadata": {
        "colab": {
          "base_uri": "https://localhost:8080/"
        },
        "id": "LTLksOXUfWEb",
        "outputId": "339c0aea-9cdf-471c-fe43-255cb1fd4744"
      },
      "execution_count": 111,
      "outputs": [
        {
          "output_type": "stream",
          "name": "stdout",
          "text": [
            "Number days without rain:   221\n",
            "Number days with rain:      144\n",
            "Days with more than 10 mm:  34\n",
            "Rainy days with < 5 mm:     83\n"
          ]
        }
      ]
    },
    {
      "cell_type": "markdown",
      "source": [
        "# **Boolean Arrays as Masks**\n",
        "\n",
        "---\n",
        "\n",
        "This is a powerful technique where a Boolean array is used to select elements from another array.\n",
        "\n",
        "**Indexing with a Boolean Array:**\n",
        "\n",
        "When you use a Boolean array to index another NumPy array of the same shape, it returns a new array containing only the elements from the original array where the corresponding value in the Boolean array is True.\n",
        "\n",
        "**Selecting Data:**\n",
        "\n",
        "This \"masking\" allows you to easily select subsets of your data based on conditions.\n",
        "\n",
        "**Analyzing Subsets:**\n",
        "\n",
        "You can then perform operations (like calculating the median or maximum) on these selected subsets of data.\n",
        "\n",
        "The example shows calculating statistics for rainy days, summer days, and non-summer rainy days\n"
      ],
      "metadata": {
        "id": "wf7rbTuEfaS2"
      }
    },
    {
      "cell_type": "code",
      "source": [
        "# Print the array x\n",
        "x"
      ],
      "metadata": {
        "colab": {
          "base_uri": "https://localhost:8080/"
        },
        "id": "eBtwwWm3fcXs",
        "outputId": "ee169b78-edca-44d8-8d64-6e215c2891a8"
      },
      "execution_count": 112,
      "outputs": [
        {
          "output_type": "execute_result",
          "data": {
            "text/plain": [
              "array([[9, 4, 0, 3],\n",
              "       [8, 6, 3, 1],\n",
              "       [3, 7, 4, 0]])"
            ]
          },
          "metadata": {},
          "execution_count": 112
        }
      ]
    },
    {
      "cell_type": "code",
      "source": [
        "# Create a boolean mask for elements in x less than 5\n",
        "\n",
        "x < 5"
      ],
      "metadata": {
        "colab": {
          "base_uri": "https://localhost:8080/"
        },
        "id": "Ped48Uj_fgTf",
        "outputId": "db00e0f2-720b-4256-c10c-fe1eca8c8246"
      },
      "execution_count": 113,
      "outputs": [
        {
          "output_type": "execute_result",
          "data": {
            "text/plain": [
              "array([[False,  True,  True,  True],\n",
              "       [False, False,  True,  True],\n",
              "       [ True, False,  True,  True]])"
            ]
          },
          "metadata": {},
          "execution_count": 113
        }
      ]
    },
    {
      "cell_type": "code",
      "source": [
        "# Use the boolean mask to select elements from x that are less than 5\n",
        "\n",
        "x[x < 5]"
      ],
      "metadata": {
        "colab": {
          "base_uri": "https://localhost:8080/"
        },
        "id": "r9Em108Vfh8a",
        "outputId": "0f343673-806c-44b1-972c-571ac791ec37"
      },
      "execution_count": 114,
      "outputs": [
        {
          "output_type": "execute_result",
          "data": {
            "text/plain": [
              "array([4, 0, 3, 3, 1, 3, 4, 0])"
            ]
          },
          "metadata": {},
          "execution_count": 114
        }
      ]
    },
    {
      "cell_type": "code",
      "source": [
        "# construct a mask of all rainy days\n",
        "rainy = (rainfall_mm > 0)\n",
        "\n",
        "# construct a mask of all summer days (June 21st is the 172nd day)\n",
        "days = np.arange(365)\n",
        "summer = (days > 172) & (days < 262)\n",
        "\n",
        "print(\"Median precip on rainy days in 2015 (mm):   \",\n",
        "      np.median(rainfall_mm[rainy]))\n",
        "print(\"Median precip on summer days in 2015 (mm):  \",\n",
        "      np.median(rainfall_mm[summer]))\n",
        "print(\"Maximum precip on summer days in 2015 (mm): \",\n",
        "      np.max(rainfall_mm[summer]))\n",
        "print(\"Median precip on non-summer rainy days (mm):\",\n",
        "      np.median(rainfall_mm[rainy & ~summer]))"
      ],
      "metadata": {
        "colab": {
          "base_uri": "https://localhost:8080/"
        },
        "id": "BVYn9I9sflb6",
        "outputId": "dc4cb112-ebdb-4464-9b58-47c9709c5e77"
      },
      "execution_count": 115,
      "outputs": [
        {
          "output_type": "stream",
          "name": "stdout",
          "text": [
            "Median precip on rainy days in 2015 (mm):    3.8\n",
            "Median precip on summer days in 2015 (mm):   0.0\n",
            "Maximum precip on summer days in 2015 (mm):  32.5\n",
            "Median precip on non-summer rainy days (mm): 4.1\n"
          ]
        }
      ]
    },
    {
      "cell_type": "markdown",
      "source": [
        "# **Using the Keywords and/or Versus the Operators &/|**\n",
        "\n",
        "\n",
        "\n",
        "---\n",
        "\n",
        "This section highlights an important distinction between Python's built-in and/or keywords and NumPy's element-wise &/| operators.\n",
        "\n",
        "**Python Keywords (and, or):**\n",
        "\n",
        "These operate on the truthiness of entire objects. They are used for short-circuit evaluation and return one of the operands. They are not designed for element-wise operations on arrays.\n",
        "\n",
        "**NumPy Operators (&, |, ^, ~):**\n",
        "\n",
        "These perform element-wise logical operations on NumPy arrays, returning a new Boolean array.\n",
        "\n",
        "**Error with Keywords:**\n",
        "\n",
        "Using and or or with NumPy arrays (especially for element-wise logic) will often result in an error because these operators don't work element by element.\n",
        "\n",
        "**Use Correct Operators:**\n",
        "\n",
        "Always use &, |, ^, and ~ when you want to perform element-wise Boolean logic on NumPy arrays.\n",
        "\n",
        "In summary, these topics demonstrate how NumPy's powerful indexing and Boolean operations allow you to efficiently select, count, and analyze data based on various conditions, which is fundamental for data manipulation and analysis in Python."
      ],
      "metadata": {
        "id": "AGFFu88pfob4"
      }
    },
    {
      "cell_type": "code",
      "source": [
        "# Check the boolean value of 42 and 0\n",
        "\n",
        "bool(42), bool(0)"
      ],
      "metadata": {
        "colab": {
          "base_uri": "https://localhost:8080/"
        },
        "id": "GFm5QQXDfqOV",
        "outputId": "dddb5f94-e857-4848-8c49-0d1dcb2afdce"
      },
      "execution_count": 116,
      "outputs": [
        {
          "output_type": "execute_result",
          "data": {
            "text/plain": [
              "(True, False)"
            ]
          },
          "metadata": {},
          "execution_count": 116
        }
      ]
    },
    {
      "cell_type": "code",
      "source": [
        "# Perform a boolean 'and' operation between the boolean values of 42 and 0\n",
        "\n",
        "bool(42 and 0)"
      ],
      "metadata": {
        "colab": {
          "base_uri": "https://localhost:8080/"
        },
        "id": "Njz4R1Tnft73",
        "outputId": "5c898360-a926-4fc9-a699-91eba3660b24"
      },
      "execution_count": 117,
      "outputs": [
        {
          "output_type": "execute_result",
          "data": {
            "text/plain": [
              "False"
            ]
          },
          "metadata": {},
          "execution_count": 117
        }
      ]
    },
    {
      "cell_type": "code",
      "source": [
        "# Perform a boolean 'or' operation between the boolean values of 42 and 0\n",
        "\n",
        "bool(42 or 0)"
      ],
      "metadata": {
        "colab": {
          "base_uri": "https://localhost:8080/"
        },
        "id": "ymH56SgKfvrS",
        "outputId": "3517f22a-0106-47c2-e090-9ee3aa892be1"
      },
      "execution_count": 118,
      "outputs": [
        {
          "output_type": "execute_result",
          "data": {
            "text/plain": [
              "True"
            ]
          },
          "metadata": {},
          "execution_count": 118
        }
      ]
    },
    {
      "cell_type": "code",
      "source": [
        "# Get the binary representation of 42\n",
        "\n",
        "bin(42)"
      ],
      "metadata": {
        "colab": {
          "base_uri": "https://localhost:8080/",
          "height": 36
        },
        "id": "eVPF6V0Jfxih",
        "outputId": "f4b2345f-3f80-4ded-ac19-876b4d02561e"
      },
      "execution_count": 119,
      "outputs": [
        {
          "output_type": "execute_result",
          "data": {
            "text/plain": [
              "'0b101010'"
            ],
            "application/vnd.google.colaboratory.intrinsic+json": {
              "type": "string"
            }
          },
          "metadata": {},
          "execution_count": 119
        }
      ]
    },
    {
      "cell_type": "code",
      "source": [
        "# Get the binary representation of 59\n",
        "\n",
        "bin(59)"
      ],
      "metadata": {
        "colab": {
          "base_uri": "https://localhost:8080/",
          "height": 36
        },
        "id": "KQ8nujLQfz5O",
        "outputId": "39ba4d11-3717-47ce-d950-7426c4d8706b"
      },
      "execution_count": 120,
      "outputs": [
        {
          "output_type": "execute_result",
          "data": {
            "text/plain": [
              "'0b111011'"
            ],
            "application/vnd.google.colaboratory.intrinsic+json": {
              "type": "string"
            }
          },
          "metadata": {},
          "execution_count": 120
        }
      ]
    },
    {
      "cell_type": "code",
      "source": [
        "# Perform a bitwise 'and' operation between 42 and 59 and get the binary result\n",
        "\n",
        "bin(42 & 59)"
      ],
      "metadata": {
        "colab": {
          "base_uri": "https://localhost:8080/",
          "height": 36
        },
        "id": "4i59bOPVf19p",
        "outputId": "6f22d048-ce05-47ed-99f2-a88260aefd70"
      },
      "execution_count": 121,
      "outputs": [
        {
          "output_type": "execute_result",
          "data": {
            "text/plain": [
              "'0b101010'"
            ],
            "application/vnd.google.colaboratory.intrinsic+json": {
              "type": "string"
            }
          },
          "metadata": {},
          "execution_count": 121
        }
      ]
    },
    {
      "cell_type": "code",
      "source": [
        "# Perform a bitwise 'or' operation between 42 and 59 and get the binary result\n",
        "\n",
        "bin(42 | 59)"
      ],
      "metadata": {
        "colab": {
          "base_uri": "https://localhost:8080/",
          "height": 36
        },
        "id": "3QZugE6Nf34B",
        "outputId": "6297b553-51ef-424f-d281-426cb7bb50e2"
      },
      "execution_count": 122,
      "outputs": [
        {
          "output_type": "execute_result",
          "data": {
            "text/plain": [
              "'0b111011'"
            ],
            "application/vnd.google.colaboratory.intrinsic+json": {
              "type": "string"
            }
          },
          "metadata": {},
          "execution_count": 122
        }
      ]
    },
    {
      "cell_type": "code",
      "source": [
        "# Create two boolean NumPy arrays\n",
        "\n",
        "A = np.array([1, 0, 1, 0, 1, 0], dtype=bool)\n",
        "B = np.array([1, 1, 1, 0, 1, 1], dtype=bool)\n",
        "A | B"
      ],
      "metadata": {
        "colab": {
          "base_uri": "https://localhost:8080/"
        },
        "id": "nApmYI4lf7JZ",
        "outputId": "8448fe92-da6d-4847-8183-3a7c329cd7cd"
      },
      "execution_count": 123,
      "outputs": [
        {
          "output_type": "execute_result",
          "data": {
            "text/plain": [
              "array([ True,  True,  True, False,  True,  True])"
            ]
          },
          "metadata": {},
          "execution_count": 123
        }
      ]
    },
    {
      "cell_type": "code",
      "source": [
        "# Attempt to perform a boolean 'or' operation on the entire arrays (will result in error)\n",
        "\n",
        "A or B"
      ],
      "metadata": {
        "colab": {
          "base_uri": "https://localhost:8080/",
          "height": 183
        },
        "id": "G5-z04RVf892",
        "outputId": "46e410a7-0dbd-450c-e28b-e693ec234cfa"
      },
      "execution_count": 124,
      "outputs": [
        {
          "output_type": "error",
          "ename": "ValueError",
          "evalue": "The truth value of an array with more than one element is ambiguous. Use a.any() or a.all()",
          "traceback": [
            "\u001b[0;31m---------------------------------------------------------------------------\u001b[0m",
            "\u001b[0;31mValueError\u001b[0m                                Traceback (most recent call last)",
            "\u001b[0;32m<ipython-input-124-e8b342c7bd32>\u001b[0m in \u001b[0;36m<cell line: 0>\u001b[0;34m()\u001b[0m\n\u001b[1;32m      1\u001b[0m \u001b[0;31m# Attempt to perform a boolean 'or' operation on the entire arrays (will result in error)\u001b[0m\u001b[0;34m\u001b[0m\u001b[0;34m\u001b[0m\u001b[0m\n\u001b[1;32m      2\u001b[0m \u001b[0;34m\u001b[0m\u001b[0m\n\u001b[0;32m----> 3\u001b[0;31m \u001b[0mA\u001b[0m \u001b[0;32mor\u001b[0m \u001b[0mB\u001b[0m\u001b[0;34m\u001b[0m\u001b[0;34m\u001b[0m\u001b[0m\n\u001b[0m",
            "\u001b[0;31mValueError\u001b[0m: The truth value of an array with more than one element is ambiguous. Use a.any() or a.all()"
          ]
        }
      ]
    },
    {
      "cell_type": "code",
      "source": [
        "# Create a NumPy array of numbers from 0 to 9\n",
        "\n",
        "x = np.arange(10)\n",
        "\n",
        "# Perform element-wise boolean 'and' on two comparison results\n",
        "\n",
        "(x > 4) & (x < 8)"
      ],
      "metadata": {
        "id": "yxioYP8Kf_vJ"
      },
      "execution_count": null,
      "outputs": []
    },
    {
      "cell_type": "code",
      "source": [
        "# Attempt to perform a boolean 'and' operation on the entire comparison results (will result in error)\n",
        "\n",
        "(x > 4) and (x < 8)"
      ],
      "metadata": {
        "id": "uIUEzFkygFYA"
      },
      "execution_count": null,
      "outputs": []
    }
  ]
}