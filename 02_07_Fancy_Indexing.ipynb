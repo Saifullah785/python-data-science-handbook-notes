{
  "nbformat": 4,
  "nbformat_minor": 0,
  "metadata": {
    "colab": {
      "provenance": [],
      "authorship_tag": "ABX9TyMUxdNAJEpkkMbCEsX5ao2/",
      "include_colab_link": true
    },
    "kernelspec": {
      "name": "python3",
      "display_name": "Python 3"
    },
    "language_info": {
      "name": "python"
    }
  },
  "cells": [
    {
      "cell_type": "markdown",
      "metadata": {
        "id": "view-in-github",
        "colab_type": "text"
      },
      "source": [
        "<a href=\"https://colab.research.google.com/github/Saifullah785/python-data-science-handbook-notes/blob/main/02_07_Fancy_Indexing.ipynb\" target=\"_parent\"><img src=\"https://colab.research.google.com/assets/colab-badge.svg\" alt=\"Open In Colab\"/></a>"
      ]
    },
    {
      "cell_type": "markdown",
      "metadata": {
        "id": "0b7a88cc"
      },
      "source": [
        "# Fancy Indexing\n",
        "\n",
        "Fancy indexing in NumPy is a method of accessing array elements using an array of indices. Unlike basic slicing, which works on contiguous blocks, fancy indexing allows you to select and arrange elements in arbitrary patterns."
      ]
    },
    {
      "cell_type": "markdown",
      "metadata": {
        "id": "1b2769bf"
      },
      "source": [
        "# Exploring Fancy Indexing\n",
        "\n",
        "This section demonstrates the fundamental concepts of fancy indexing with 1D and 2D arrays, showing how to select elements based on single index arrays and how the shape of the index array determines the shape of the output. It also introduces how broadcasting can be combined with fancy indexing."
      ]
    },
    {
      "cell_type": "code",
      "source": [
        "import numpy as np\n",
        "\n",
        "# Create a random number generator with a fixed seed for reproducibility\n",
        "rng = np.random.default_rng(seed=1701)\n",
        "\n",
        "# Generate an array of 10 random integers between 0 and 99\n",
        "x = rng.integers(100, size=10)\n",
        "\n",
        "# Print the generated array\n",
        "print(x)"
      ],
      "metadata": {
        "colab": {
          "base_uri": "https://localhost:8080/"
        },
        "id": "daC3OUs6I8J2",
        "outputId": "71f4d459-8c98-4653-f51d-7b37e200deed"
      },
      "execution_count": 39,
      "outputs": [
        {
          "output_type": "stream",
          "name": "stdout",
          "text": [
            "[90 40  9 30 80 67 39 15 33 79]\n"
          ]
        }
      ]
    },
    {
      "cell_type": "code",
      "source": [
        "# Access elements at specific indices using a Python list\n",
        "[x[3], x[7], x[2]]"
      ],
      "metadata": {
        "colab": {
          "base_uri": "https://localhost:8080/"
        },
        "id": "YMzstgLzJ11l",
        "outputId": "80a0e9f0-ed53-47d4-f30b-1ef0fdc0bd85"
      },
      "execution_count": 40,
      "outputs": [
        {
          "output_type": "execute_result",
          "data": {
            "text/plain": [
              "[np.int64(30), np.int64(15), np.int64(9)]"
            ]
          },
          "metadata": {},
          "execution_count": 40
        }
      ]
    },
    {
      "cell_type": "code",
      "source": [
        "# Define an array of indices\n",
        "ind = [3, 7, 4]\n",
        "\n",
        "# Use fancy indexing to access elements at the specified indices\n",
        "x[ind]"
      ],
      "metadata": {
        "colab": {
          "base_uri": "https://localhost:8080/"
        },
        "id": "QN5Xe6TxKEoi",
        "outputId": "ac35b3bc-0517-4652-8107-72b67c460007"
      },
      "execution_count": 41,
      "outputs": [
        {
          "output_type": "execute_result",
          "data": {
            "text/plain": [
              "array([30, 15, 80])"
            ]
          },
          "metadata": {},
          "execution_count": 41
        }
      ]
    },
    {
      "cell_type": "code",
      "source": [
        "# Define a 2D array of indices\n",
        "ind = np.array([[3, 7],\n",
        "                [4, 5]])\n",
        "\n",
        "# Use fancy indexing to access elements at the specified indices, resulting in a 2D array\n",
        "x[ind]"
      ],
      "metadata": {
        "colab": {
          "base_uri": "https://localhost:8080/"
        },
        "id": "oLol1r1UKheL",
        "outputId": "52e0f293-d7f9-4e3c-f081-556e4a7e99f6"
      },
      "execution_count": 42,
      "outputs": [
        {
          "output_type": "execute_result",
          "data": {
            "text/plain": [
              "array([[30, 15],\n",
              "       [80, 67]])"
            ]
          },
          "metadata": {},
          "execution_count": 42
        }
      ]
    },
    {
      "cell_type": "code",
      "source": [
        "# Create a 2D array with values from 0 to 11 and reshape it to 3 rows and 4 columns\n",
        "X = np.arange(12).reshape((3, 4))\n",
        "\n",
        "# Print the 2D array\n",
        "X"
      ],
      "metadata": {
        "colab": {
          "base_uri": "https://localhost:8080/"
        },
        "id": "vciS9u7SKxaN",
        "outputId": "139b56ae-f9e1-4058-c878-eb4c925fcd8f"
      },
      "execution_count": 43,
      "outputs": [
        {
          "output_type": "execute_result",
          "data": {
            "text/plain": [
              "array([[ 0,  1,  2,  3],\n",
              "       [ 4,  5,  6,  7],\n",
              "       [ 8,  9, 10, 11]])"
            ]
          },
          "metadata": {},
          "execution_count": 43
        }
      ]
    },
    {
      "cell_type": "code",
      "source": [
        "# Define arrays for row and column indices\n",
        "row = np.array([0, 1, 2])\n",
        "col = np.array([2, 1, 3])\n",
        "\n",
        "# Use fancy indexing with separate row and column index arrays to select specific elements\n",
        "X[row, col]"
      ],
      "metadata": {
        "colab": {
          "base_uri": "https://localhost:8080/"
        },
        "id": "eOYkEo2qL28P",
        "outputId": "f8b33fab-c822-4c88-bc51-e5344a26f662"
      },
      "execution_count": 44,
      "outputs": [
        {
          "output_type": "execute_result",
          "data": {
            "text/plain": [
              "array([ 2,  5, 11])"
            ]
          },
          "metadata": {},
          "execution_count": 44
        }
      ]
    },
    {
      "cell_type": "code",
      "source": [
        "# Use broadcasting with fancy indexing to select elements\n",
        "# row[:, np.newaxis] creates a column vector from the row array\n",
        "# This selects elements from each row at the specified column indices in 'col'\n",
        "X[row[:, np.newaxis], col]"
      ],
      "metadata": {
        "colab": {
          "base_uri": "https://localhost:8080/"
        },
        "id": "FEDf4UM1MU8h",
        "outputId": "44891d55-6b27-4b66-823b-c48b6eb3a71a"
      },
      "execution_count": 45,
      "outputs": [
        {
          "output_type": "execute_result",
          "data": {
            "text/plain": [
              "array([[ 2,  1,  3],\n",
              "       [ 6,  5,  7],\n",
              "       [10,  9, 11]])"
            ]
          },
          "metadata": {},
          "execution_count": 45
        }
      ]
    },
    {
      "cell_type": "code",
      "source": [
        "# Demonstrate broadcasting behavior with element-wise multiplication\n",
        "# row[:, np.newaxis] is a column vector, col is a row vector\n",
        "# The result is a 2D array where each element is the product of the corresponding row and column elements\n",
        "row[:, np.newaxis] * col"
      ],
      "metadata": {
        "colab": {
          "base_uri": "https://localhost:8080/"
        },
        "id": "d-QOza0XMhwP",
        "outputId": "45908c68-be89-4bdf-9750-b5c91d901a94"
      },
      "execution_count": 46,
      "outputs": [
        {
          "output_type": "execute_result",
          "data": {
            "text/plain": [
              "array([[0, 0, 0],\n",
              "       [2, 1, 3],\n",
              "       [4, 2, 6]])"
            ]
          },
          "metadata": {},
          "execution_count": 46
        }
      ]
    },
    {
      "cell_type": "markdown",
      "metadata": {
        "id": "5de123b2"
      },
      "source": [
        "# Combined Indexing\n",
        "\n",
        "Combined indexing showcases how fancy indexing can be used in conjunction with other indexing methods like basic slicing and boolean masks to select specific subsets of array elements in more complex ways."
      ]
    },
    {
      "cell_type": "code",
      "source": [
        "# Print the 2D array X\n",
        "print(X)"
      ],
      "metadata": {
        "colab": {
          "base_uri": "https://localhost:8080/"
        },
        "id": "RegPQ1nlMsR-",
        "outputId": "f4214983-ae37-4022-d8c8-d416df0a8b02"
      },
      "execution_count": 47,
      "outputs": [
        {
          "output_type": "stream",
          "name": "stdout",
          "text": [
            "[[ 0  1  2  3]\n",
            " [ 4  5  6  7]\n",
            " [ 8  9 10 11]]\n"
          ]
        }
      ]
    },
    {
      "cell_type": "code",
      "source": [
        "# Select elements from the third row (index 2) at specified column indices\n",
        "X[2, [2, 0, 1]]"
      ],
      "metadata": {
        "colab": {
          "base_uri": "https://localhost:8080/"
        },
        "id": "XVkzn450Mz63",
        "outputId": "fce487e1-2d94-495b-ca50-bc7965a51efb"
      },
      "execution_count": 48,
      "outputs": [
        {
          "output_type": "execute_result",
          "data": {
            "text/plain": [
              "array([10,  8,  9])"
            ]
          },
          "metadata": {},
          "execution_count": 48
        }
      ]
    },
    {
      "cell_type": "code",
      "source": [
        "# Select all rows (:) and specific columns using a list of indices\n",
        "X[:, [2, 0, 1]]"
      ],
      "metadata": {
        "colab": {
          "base_uri": "https://localhost:8080/"
        },
        "id": "XYaugT3EM5w8",
        "outputId": "9289d3aa-a906-44d1-daee-ac42380f0941"
      },
      "execution_count": 49,
      "outputs": [
        {
          "output_type": "execute_result",
          "data": {
            "text/plain": [
              "array([[ 2,  0,  1],\n",
              "       [ 6,  4,  5],\n",
              "       [10,  8,  9]])"
            ]
          },
          "metadata": {},
          "execution_count": 49
        }
      ]
    },
    {
      "cell_type": "code",
      "source": [
        "# Create a boolean mask for columns\n",
        "mask = np.array([1, 0, 1, 0], dtype=bool)\n",
        "\n",
        "# Use broadcasting with fancy indexing and a boolean mask\n",
        "# row[:, np.newaxis] is a column vector for selecting rows\n",
        "# mask selects columns where the value is True\n",
        "# This selects elements from each row where the corresponding column in the mask is True\n",
        "X[row[:, np.newaxis], mask]"
      ],
      "metadata": {
        "colab": {
          "base_uri": "https://localhost:8080/"
        },
        "id": "Ph5HLgbGNBvw",
        "outputId": "c802f52d-cfff-41d1-9541-bc12954fe71b"
      },
      "execution_count": 50,
      "outputs": [
        {
          "output_type": "execute_result",
          "data": {
            "text/plain": [
              "array([[ 0,  2],\n",
              "       [ 4,  6],\n",
              "       [ 8, 10]])"
            ]
          },
          "metadata": {},
          "execution_count": 50
        }
      ]
    },
    {
      "cell_type": "markdown",
      "metadata": {
        "id": "f46ab7f6"
      },
      "source": [
        "# Example: Selecting Random Points\n",
        "\n",
        "This example illustrates a practical application of fancy indexing by demonstrating how to randomly select a subset of data points from a larger dataset. This is useful in various scenarios, such as bootstrapping or creating training/testing datasets."
      ]
    },
    {
      "cell_type": "code",
      "source": [
        "# Define the mean and covariance matrix for generating multivariate normal data\n",
        "mean = [0, 0]\n",
        "cov = [[1, 2],\n",
        "       [2, 5]]\n",
        "\n",
        "# Generate 100 random points from a multivariate normal distribution\n",
        "X = rng.multivariate_normal(mean, cov, 100)\n",
        "\n",
        "# Print the shape of the generated array\n",
        "X.shape"
      ],
      "metadata": {
        "colab": {
          "base_uri": "https://localhost:8080/"
        },
        "id": "VG9mRujoNdH2",
        "outputId": "94343f4b-5df2-4231-86d0-4e66bc1458d5"
      },
      "execution_count": 51,
      "outputs": [
        {
          "output_type": "execute_result",
          "data": {
            "text/plain": [
              "(100, 2)"
            ]
          },
          "metadata": {},
          "execution_count": 51
        }
      ]
    },
    {
      "cell_type": "code",
      "source": [
        "# Print the generated multivariate normal data\n",
        "X"
      ],
      "metadata": {
        "colab": {
          "base_uri": "https://localhost:8080/"
        },
        "id": "EzTIhsmXN8J5",
        "outputId": "2376bcec-6755-40e6-ea4c-436362971480"
      },
      "execution_count": 52,
      "outputs": [
        {
          "output_type": "execute_result",
          "data": {
            "text/plain": [
              "array([[ 9.23761718e-01,  3.86247383e+00],\n",
              "       [ 6.61751529e-01,  2.92566223e+00],\n",
              "       [ 7.30981058e-01,  2.44134086e+00],\n",
              "       [-3.29786797e-01, -1.16688738e-01],\n",
              "       [-3.08887585e-01,  8.74389601e-01],\n",
              "       [ 8.60135824e-01,  1.64977873e+00],\n",
              "       [ 1.12535005e+00,  3.07970690e+00],\n",
              "       [-1.15071385e+00, -1.02441057e+00],\n",
              "       [ 8.52757448e-02, -9.07980378e-01],\n",
              "       [ 7.24091502e-01,  2.16337705e+00],\n",
              "       [-7.55750651e-01, -3.51313567e-01],\n",
              "       [-1.13766512e+00, -2.80758238e+00],\n",
              "       [ 1.51379786e-01, -1.23549790e+00],\n",
              "       [-2.19302975e+00, -5.36976879e+00],\n",
              "       [ 6.70249139e-01,  3.71399758e+00],\n",
              "       [ 1.45648064e+00,  2.74167311e+00],\n",
              "       [-8.50652055e-01, -1.54100459e+00],\n",
              "       [ 2.05554772e-01,  7.80629399e-01],\n",
              "       [-1.62415980e+00, -3.90121516e+00],\n",
              "       [ 8.04554777e-01,  3.42702891e+00],\n",
              "       [-8.31136835e-01, -1.42428390e+00],\n",
              "       [-1.52519971e+00, -3.37676226e+00],\n",
              "       [-3.75641948e-01, -1.31595855e+00],\n",
              "       [ 7.00500528e-01,  2.73668582e+00],\n",
              "       [ 8.20900913e-01,  5.90557023e-01],\n",
              "       [-3.41910865e-01, -3.74276386e-01],\n",
              "       [ 5.91064558e-01,  2.24773885e+00],\n",
              "       [ 2.37187534e+00,  4.46843628e+00],\n",
              "       [ 1.11908814e-01, -9.40897295e-01],\n",
              "       [ 7.91465930e-01,  2.64057061e+00],\n",
              "       [-1.42326788e+00, -2.72306289e+00],\n",
              "       [-5.91795754e-01,  1.91761015e+00],\n",
              "       [-7.10588039e-01, -1.05392878e+00],\n",
              "       [-1.00316680e-01,  8.65958304e-02],\n",
              "       [-9.50621459e-01, -8.69559492e-01],\n",
              "       [ 5.50992347e-01, -5.30277511e-01],\n",
              "       [ 7.46830441e-01,  2.26487629e+00],\n",
              "       [ 3.89223439e-02, -1.43137961e+00],\n",
              "       [ 4.92901753e-01,  7.96397066e-01],\n",
              "       [-8.55749544e-01, -9.99618236e-01],\n",
              "       [ 7.19488278e-02,  7.02146349e-01],\n",
              "       [-1.99932580e+00, -2.27811191e+00],\n",
              "       [ 1.86517951e-01,  1.23596368e+00],\n",
              "       [-8.09056584e-01, -1.81703893e+00],\n",
              "       [ 8.29265444e-01,  2.18345845e+00],\n",
              "       [ 5.35190376e-01,  4.47966342e-01],\n",
              "       [-3.27562105e-01, -1.77482480e+00],\n",
              "       [-2.69738048e+00, -5.62348677e+00],\n",
              "       [ 1.43891059e+00,  2.42258911e+00],\n",
              "       [ 4.70562172e-01,  2.52786853e-01],\n",
              "       [-5.34031981e-01, -5.85417619e-01],\n",
              "       [-1.63955400e+00, -4.54577650e+00],\n",
              "       [ 8.69157425e-01,  1.05136337e+00],\n",
              "       [-2.48588812e+00, -5.42296100e+00],\n",
              "       [ 7.94899718e-01,  2.13159391e+00],\n",
              "       [-4.36407775e-01,  9.33100970e-01],\n",
              "       [ 2.79594472e+00,  6.33408633e+00],\n",
              "       [-1.62721133e+00, -3.29227540e+00],\n",
              "       [-1.59944090e+00, -3.74038295e+00],\n",
              "       [-2.59751447e+00, -3.47995836e+00],\n",
              "       [-1.41393471e+00, -3.66357845e+00],\n",
              "       [ 2.32369408e-01,  8.80859656e-01],\n",
              "       [ 3.40511819e-02,  7.32541387e-01],\n",
              "       [ 2.23519164e+00,  4.33266160e+00],\n",
              "       [-3.31214432e-01, -5.39959415e-01],\n",
              "       [ 5.33618503e-01,  1.11631280e+00],\n",
              "       [-1.32861435e-01,  3.02343489e-01],\n",
              "       [-2.90496991e-01,  8.08089066e-01],\n",
              "       [ 8.55570565e-01, -1.29022391e-01],\n",
              "       [ 6.88371652e-01,  1.71544376e+00],\n",
              "       [-7.19572387e-01, -2.20706627e+00],\n",
              "       [ 3.41534033e-01,  4.35054321e-01],\n",
              "       [ 8.59854946e-01,  2.03652405e+00],\n",
              "       [ 8.17369954e-01,  1.94401318e+00],\n",
              "       [ 1.63466107e-01, -5.67376304e-01],\n",
              "       [ 3.27979510e-01, -9.04223047e-01],\n",
              "       [ 1.09101199e+00,  1.77260811e+00],\n",
              "       [-7.93948859e-01, -3.81180928e+00],\n",
              "       [-1.26787248e+00, -1.74778269e+00],\n",
              "       [-1.37619004e+00, -1.55017467e+00],\n",
              "       [ 2.81388613e+00,  6.03151912e+00],\n",
              "       [ 9.05995326e-02,  2.56736581e+00],\n",
              "       [ 8.90561967e-01,  2.02812028e-01],\n",
              "       [ 2.05045627e+00,  4.39542104e+00],\n",
              "       [ 1.65070370e+00,  4.15011809e+00],\n",
              "       [-2.57288282e-03, -3.39005109e-01],\n",
              "       [-9.32267600e-01, -3.39969892e-01],\n",
              "       [-4.97766658e-01, -1.17936925e+00],\n",
              "       [-2.83490787e-01,  1.33429965e+00],\n",
              "       [ 3.58560517e-01, -5.61047342e-01],\n",
              "       [ 8.03032647e-01,  1.20986161e+00],\n",
              "       [-4.26502973e-01, -2.22030027e-01],\n",
              "       [ 3.48464179e-01,  1.95705366e+00],\n",
              "       [ 4.66059518e-01, -6.79589356e-01],\n",
              "       [-1.23294063e-01, -4.23105904e-01],\n",
              "       [-1.23663760e+00, -3.70722817e+00],\n",
              "       [-2.59588094e+00, -4.33224979e+00],\n",
              "       [-5.23767992e-02, -5.80675479e-01],\n",
              "       [ 1.31411717e+00,  2.22815311e+00],\n",
              "       [ 1.08304664e-02, -1.24518261e-01]])"
            ]
          },
          "metadata": {},
          "execution_count": 52
        }
      ]
    },
    {
      "cell_type": "code",
      "source": [
        "# Set the backend for matplotlib to display plots inline\n",
        "%matplotlib inline\n",
        "\n",
        "# Import the matplotlib.pyplot library for plotting\n",
        "import matplotlib.pyplot as plt\n",
        "\n",
        "# Use a specific style for the plots\n",
        "plt.style.use('seaborn-v0_8-whitegrid')\n",
        "\n",
        "# Create a scatter plot of the generated data\n",
        "# X[:, 0] are the x-coordinates, X[:, 1] are the y-coordinates\n",
        "plt.scatter(X[:, 0], X[:, 1]);"
      ],
      "metadata": {
        "colab": {
          "base_uri": "https://localhost:8080/",
          "height": 425
        },
        "id": "lO_J0Oj-OEqF",
        "outputId": "583ca62e-e2db-43d7-8c12-0e1df987d3b7"
      },
      "execution_count": 53,
      "outputs": [
        {
          "output_type": "display_data",
          "data": {
            "text/plain": [
              "<Figure size 640x480 with 1 Axes>"
            ],
            "image/png": "[encoded data removed]"
          },
          "metadata": {}
        }
      ]
    },
    {
      "cell_type": "code",
      "source": [
        "# Randomly choose 20 indices from the range of the number of rows in X without replacement\n",
        "indices = np.random.choice(X.shape[0], 20, replace=False)\n",
        "\n",
        "# Print the selected indices\n",
        "indices"
      ],
      "metadata": {
        "colab": {
          "base_uri": "https://localhost:8080/"
        },
        "id": "u8senRvoPHpC",
        "outputId": "3ee2da09-5507-44ba-e321-d3e246090781"
      },
      "execution_count": 54,
      "outputs": [
        {
          "output_type": "execute_result",
          "data": {
            "text/plain": [
              "array([43,  9, 90, 39, 25, 10, 54, 31, 11, 14, 46, 34, 56, 13, 75, 30, 48,\n",
              "       85, 70,  8])"
            ]
          },
          "metadata": {},
          "execution_count": 54
        }
      ]
    },
    {
      "cell_type": "code",
      "source": [
        "# Select the rows from X at the randomly chosen indices using fancy indexing\n",
        "selection = X[indices]\n",
        "\n",
        "# Print the shape of the selected subset\n",
        "selection.shape"
      ],
      "metadata": {
        "colab": {
          "base_uri": "https://localhost:8080/"
        },
        "id": "7rL8N316PJki",
        "outputId": "044012bd-7ef1-440e-ac22-59ccf345fe04"
      },
      "execution_count": 55,
      "outputs": [
        {
          "output_type": "execute_result",
          "data": {
            "text/plain": [
              "(20, 2)"
            ]
          },
          "metadata": {},
          "execution_count": 55
        }
      ]
    },
    {
      "cell_type": "code",
      "source": [
        "# Print the selected subset of points\n",
        "selection"
      ],
      "metadata": {
        "colab": {
          "base_uri": "https://localhost:8080/"
        },
        "id": "zjq0x88lPXgh",
        "outputId": "73e737c0-8c8f-4939-e79b-a9793794774c"
      },
      "execution_count": 56,
      "outputs": [
        {
          "output_type": "execute_result",
          "data": {
            "text/plain": [
              "array([[-8.09056584e-01, -1.81703893e+00],\n",
              "       [ 7.24091502e-01,  2.16337705e+00],\n",
              "       [ 8.03032647e-01,  1.20986161e+00],\n",
              "       [-8.55749544e-01, -9.99618236e-01],\n",
              "       [-3.41910865e-01, -3.74276386e-01],\n",
              "       [-7.55750651e-01, -3.51313567e-01],\n",
              "       [ 7.94899718e-01,  2.13159391e+00],\n",
              "       [-5.91795754e-01,  1.91761015e+00],\n",
              "       [-1.13766512e+00, -2.80758238e+00],\n",
              "       [ 6.70249139e-01,  3.71399758e+00],\n",
              "       [-3.27562105e-01, -1.77482480e+00],\n",
              "       [-9.50621459e-01, -8.69559492e-01],\n",
              "       [ 2.79594472e+00,  6.33408633e+00],\n",
              "       [-2.19302975e+00, -5.36976879e+00],\n",
              "       [ 3.27979510e-01, -9.04223047e-01],\n",
              "       [-1.42326788e+00, -2.72306289e+00],\n",
              "       [ 1.43891059e+00,  2.42258911e+00],\n",
              "       [-2.57288282e-03, -3.39005109e-01],\n",
              "       [-7.19572387e-01, -2.20706627e+00],\n",
              "       [ 8.52757448e-02, -9.07980378e-01]])"
            ]
          },
          "metadata": {},
          "execution_count": 56
        }
      ]
    },
    {
      "cell_type": "code",
      "source": [
        "# Create a scatter plot of all points with some transparency\n",
        "plt.scatter(X[:, 0], X[:, 1], alpha=0.3)\n",
        "\n",
        "# Create a scatter plot of the selected points with black edges and no face color, and a larger size\n",
        "plt.scatter(selection[:, 0], selection[:, 1],\n",
        "            facecolor='none',edgecolors='black', s=200);"
      ],
      "metadata": {
        "colab": {
          "base_uri": "https://localhost:8080/",
          "height": 425
        },
        "id": "0a1RjvMyPRXT",
        "outputId": "35569b25-9419-48a8-a24c-dda26a3247c8"
      },
      "execution_count": 57,
      "outputs": [
        {
          "output_type": "display_data",
          "data": {
            "text/plain": [
              "<Figure size 640x480 with 1 Axes>"
            ],
            "image/png": "[encoded data removed]"
          },
          "metadata": {}
        }
      ]
    },
    {
      "cell_type": "markdown",
      "metadata": {
        "id": "efa91190"
      },
      "source": [
        "# Modifying Values with Fancy Indexing\n",
        "\n",
        "Fancy indexing can also be used to modify array elements at specific indices. This section shows how to assign values to selected elements and highlights the behavior when indices are repeated, introducing `np.add.at` for correctly handling repeated index modifications."
      ]
    },
    {
      "cell_type": "code",
      "source": [
        "# Create a numpy array of integers from 0 to 9\n",
        "x = np.arange(10)\n",
        "\n",
        "# Define an array of indices\n",
        "i = np.array([2, 1, 8, 4])\n",
        "\n",
        "# Use fancy indexing to assign the value 99 to the elements at the specified indices\n",
        "x[i] = 99\n",
        "\n",
        "# Print the modified array\n",
        "print(x)"
      ],
      "metadata": {
        "colab": {
          "base_uri": "https://localhost:8080/"
        },
        "id": "E2zoDhULQQlg",
        "outputId": "ea824dd6-2f74-4a85-cdff-c8499f58cb92"
      },
      "execution_count": 58,
      "outputs": [
        {
          "output_type": "stream",
          "name": "stdout",
          "text": [
            "[ 0 99 99  3 99  5  6  7 99  9]\n"
          ]
        }
      ]
    },
    {
      "cell_type": "code",
      "source": [
        "# Use fancy indexing to subtract 10 from the elements at the specified indices\n",
        "x[i] -= 10\n",
        "\n",
        "# Print the modified array\n",
        "print(x)"
      ],
      "metadata": {
        "colab": {
          "base_uri": "https://localhost:8080/"
        },
        "id": "O1-cji-JQWgp",
        "outputId": "1275241d-01b3-47fb-98ac-93d091418d29"
      },
      "execution_count": 59,
      "outputs": [
        {
          "output_type": "stream",
          "name": "stdout",
          "text": [
            "[ 0 89 89  3 89  5  6  7 89  9]\n"
          ]
        }
      ]
    },
    {
      "cell_type": "code",
      "source": [
        "# Create an array of zeros of size 10\n",
        "x = np.zeros(10)\n",
        "\n",
        "# Use fancy indexing to assign values to elements at specified indices.\n",
        "# Note: If indices are repeated, the last assignment for that index wins.\n",
        "x[[0, 0]] = [4, 6]\n",
        "\n",
        "# Print the modified array\n",
        "print(x)"
      ],
      "metadata": {
        "colab": {
          "base_uri": "https://localhost:8080/"
        },
        "id": "p8sq4Ph0QZQY",
        "outputId": "49f2c9ac-2a5d-479c-827c-1f9ada31e246"
      },
      "execution_count": 60,
      "outputs": [
        {
          "output_type": "stream",
          "name": "stdout",
          "text": [
            "[6. 0. 0. 0. 0. 0. 0. 0. 0. 0.]\n"
          ]
        }
      ]
    },
    {
      "cell_type": "code",
      "source": [
        "# Define an array of indices with repeated values\n",
        "i = [2, 3, 3, 4, 4, 4]\n",
        "\n",
        "# Use fancy indexing to add 1 to the elements at the specified indices.\n",
        "# Note: This will only add 1 once for each unique index, even if the index is repeated in 'i'.\n",
        "x[i] += 1\n",
        "\n",
        "# Print the modified array\n",
        "x"
      ],
      "metadata": {
        "colab": {
          "base_uri": "https://localhost:8080/"
        },
        "id": "Cn7dqliaQgrB",
        "outputId": "47fe2782-d3b0-4037-91eb-e197d18fac75"
      },
      "execution_count": 61,
      "outputs": [
        {
          "output_type": "execute_result",
          "data": {
            "text/plain": [
              "array([6., 0., 1., 1., 1., 0., 0., 0., 0., 0.])"
            ]
          },
          "metadata": {},
          "execution_count": 61
        }
      ]
    },
    {
      "cell_type": "code",
      "source": [
        "# Create an array of zeros of size 10\n",
        "x = np.zeros(10)\n",
        "\n",
        "# Use np.add.at to add 1 to elements at specified indices.\n",
        "# This function correctly handles repeated indices by adding the value for each occurrence of the index.\n",
        "np.add.at(x, i, 1)\n",
        "\n",
        "# Print the modified array\n",
        "print(x)"
      ],
      "metadata": {
        "colab": {
          "base_uri": "https://localhost:8080/"
        },
        "id": "2JAP2FYjQrcQ",
        "outputId": "b33d2858-e7bf-4fe9-ff11-4124351ee70d"
      },
      "execution_count": 62,
      "outputs": [
        {
          "output_type": "stream",
          "name": "stdout",
          "text": [
            "[0. 0. 1. 2. 3. 0. 0. 0. 0. 0.]\n"
          ]
        }
      ]
    },
    {
      "cell_type": "markdown",
      "metadata": {
        "id": "25052059"
      },
      "source": [
        "# Example: Binning Data\n",
        "\n",
        "This example demonstrates how fancy indexing, particularly with `np.add.at`, can be used to efficiently perform data binning, which is a common technique for creating histograms or categorizing data into intervals. It also compares the performance of this custom binning method with NumPy's built-in histogram function."
      ]
    },
    {
      "cell_type": "code",
      "source": [
        "# Create a random number generator with a fixed seed for reproducibility\n",
        "rng = np.random.default_rng(seed=1701)\n",
        "\n",
        "# Generate an array of 100 random numbers from a normal distribution\n",
        "x = rng.normal(size=100)\n",
        "\n",
        "# compute a histogram by hand\n",
        "\n",
        "# Define the edges of the bins for the histogram\n",
        "bins = np.linspace(-5, 5, 20)\n",
        "\n",
        "# Initialize an array of zeros to store the counts in each bin\n",
        "counts = np.zeros_like(bins)\n",
        "\n",
        "# find the appropriate bin for each x\n",
        "# np.searchsorted finds the indices where elements should be inserted to maintain order\n",
        "# This effectively finds which bin each element of x falls into\n",
        "i = np.searchsorted(bins, x)\n",
        "\n",
        "# add 1 to each of these bins\n",
        "# Use np.add.at to increment the count for each corresponding bin index\n",
        "np.add.at(counts, i, 1)"
      ],
      "metadata": {
        "id": "VDEhGoa7RMUI"
      },
      "execution_count": 63,
      "outputs": []
    },
    {
      "cell_type": "code",
      "source": [
        "# plot the results\n",
        "\n",
        "# Plot the histogram using the calculated counts and bin edges\n",
        "# drawstyle='steps' creates a step-like plot, typical for histograms\n",
        "plt.plot(bins, counts, drawstyle='steps')"
      ],
      "metadata": {
        "colab": {
          "base_uri": "https://localhost:8080/",
          "height": 443
        },
        "id": "3K0L0SXURO_Y",
        "outputId": "65453173-3111-41f1-ebc1-b21d87854de1"
      },
      "execution_count": 64,
      "outputs": [
        {
          "output_type": "execute_result",
          "data": {
            "text/plain": [
              "[<matplotlib.lines.Line2D at 0x78898f9c9010>]"
            ]
          },
          "metadata": {},
          "execution_count": 64
        },
        {
          "output_type": "display_data",
          "data": {
            "text/plain": [
              "<Figure size 640x480 with 1 Axes>"
            ],
            "image/png": "[encoded data removed]"
          },
          "metadata": {}
        }
      ]
    },
    {
      "cell_type": "code",
      "source": [
        "# Print a message indicating the type of histogram and the number of points\n",
        "print(f\"Numpy histogram ({len(x)} points):\")\n",
        "\n",
        "# Measure the execution time of numpy's built-in histogram function\n",
        "%timeit counts, edges = np.histogram(x, bins)\n",
        "\n",
        "# Print a message indicating the custom histogram and the number of points\n",
        "print(f\"Custom histogram ({len(x)} points):\")\n",
        "\n",
        "# Measure the execution time of the custom histogram calculation using np.add.at\n",
        "%timeit np.add.at(counts, np.searchsorted(bins, x), 1)"
      ],
      "metadata": {
        "colab": {
          "base_uri": "https://localhost:8080/"
        },
        "id": "UbKtODjsRiTf",
        "outputId": "0cc034a1-f51b-417a-d4da-12623d0e77f9"
      },
      "execution_count": 65,
      "outputs": [
        {
          "output_type": "stream",
          "name": "stdout",
          "text": [
            "Numpy histogram (100 points):\n",
            "18 µs ± 2.26 µs per loop (mean ± std. dev. of 7 runs, 100000 loops each)\n",
            "Custom histogram (100 points):\n",
            "10.8 µs ± 310 ns per loop (mean ± std. dev. of 7 runs, 100000 loops each)\n"
          ]
        }
      ]
    },
    {
      "cell_type": "code",
      "source": [
        "# Generate a larger array of random numbers from a normal distribution\n",
        "x = rng.normal(size=1000000)\n",
        "\n",
        "# Print a message indicating the type of histogram and the number of points\n",
        "print(f\"Numpy histogram ({len(x)} points):\")\n",
        "\n",
        "# Measure the execution time of numpy's built-in histogram function for a larger dataset\n",
        "%timeit counts, edges = np.histogram(x, bins)\n",
        "\n",
        "# Print a message indicating the custom histogram and the number of points\n",
        "print(f\"Custom histogram ({len(x)} points):\")\n",
        "\n",
        "# Measure the execution time of the custom histogram calculation using np.add.at for a larger dataset\n",
        "%timeit np.add.at(counts, np.searchsorted(bins, x), 1)"
      ],
      "metadata": {
        "colab": {
          "base_uri": "https://localhost:8080/"
        },
        "id": "HHmjLzJZS06E",
        "outputId": "40ca9ebe-f0cd-453b-cb68-a7dda98fe610"
      },
      "execution_count": 66,
      "outputs": [
        {
          "output_type": "stream",
          "name": "stdout",
          "text": [
            "Numpy histogram (1000000 points):\n",
            "12.3 ms ± 151 µs per loop (mean ± std. dev. of 7 runs, 100 loops each)\n",
            "Custom histogram (1000000 points):\n",
            "90.2 ms ± 6.8 ms per loop (mean ± std. dev. of 7 runs, 10 loops each)\n"
          ]
        }
      ]
    }
  ]
}