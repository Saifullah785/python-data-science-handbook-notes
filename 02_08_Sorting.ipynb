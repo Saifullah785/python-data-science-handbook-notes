{
  "nbformat": 4,
  "nbformat_minor": 0,
  "metadata": {
    "colab": {
      "provenance": [],
      "authorship_tag": "ABX9TyNgCBGveQAfZtkDkYCoFnsz",
      "include_colab_link": true
    },
    "kernelspec": {
      "name": "python3",
      "display_name": "Python 3"
    },
    "language_info": {
      "name": "python"
    }
  },
  "cells": [
    {
      "cell_type": "markdown",
      "metadata": {
        "id": "view-in-github",
        "colab_type": "text"
      },
      "source": [
        "<a href=\"https://colab.research.google.com/github/Saifullah785/python-data-science-handbook-notes/blob/main/02_08_Sorting.ipynb\" target=\"_parent\"><img src=\"https://colab.research.google.com/assets/colab-badge.svg\" alt=\"Open In Colab\"/></a>"
      ]
    },
    {
      "cell_type": "markdown",
      "source": [
        "# **Sorting Arrays:**\n",
        "\n",
        "Demonstrates basic sorting of Python lists using sorted() and sort().\n",
        "\n",
        "# **Fast Sorting in Numpy:**\n",
        "\n",
        "Introduces NumPy's efficient sorting functions np.sort() and np.argsort().\n",
        "\n",
        "# **Sorting Along Rows or Columns:**\n",
        "\n",
        "Shows how to sort multi-dimensional NumPy arrays along specific axes.\n",
        "\n",
        "# **Partial Sorts:**\n",
        "\n",
        "Partitioning: Explains np.partition() for efficient partial sorting to find the k smallest elements.\n",
        "\n",
        "# **Example : K-Nearest Neighbors:**\n",
        "\n",
        "Illustrates how sorting and partitioning can be used in the K-Nearest Neighbors algorithm to find the closest data points.\n",
        "\n",
        "\n",
        "# **Summary:**\n",
        "\n",
        "The notebook covers various methods for sorting data in Python, starting with basic list sorting and progressing to more efficient NumPy functions for sorting and partitioning arrays, including examples of their application in finding nearest neighbors."
      ],
      "metadata": {
        "id": "9fFStLGvHMCL"
      }
    },
    {
      "cell_type": "markdown",
      "source": [
        "# **Sorting Arrays**"
      ],
      "metadata": {
        "id": "KXFRlPb4y2qf"
      }
    },
    {
      "cell_type": "code",
      "execution_count": 48,
      "metadata": {
        "colab": {
          "base_uri": "https://localhost:8080/"
        },
        "id": "O3t3TfJZdljb",
        "outputId": "911e55e6-fa5f-4d2e-8ece-0df7026e6b74"
      },
      "outputs": [
        {
          "output_type": "execute_result",
          "data": {
            "text/plain": [
              "[1, 1, 2, 3, 4, 5, 6, 9]"
            ]
          },
          "metadata": {},
          "execution_count": 48
        }
      ],
      "source": [
        "# Define a list of numbers\n",
        "L = [3, 1, 4, 1, 5, 9, 2, 6]\n",
        "\n",
        "# Use the built-in sorted() function to return a new sorted list\n",
        "sorted(L) # returns a sorted copy\n"
      ]
    },
    {
      "cell_type": "code",
      "source": [
        "L"
      ],
      "metadata": {
        "colab": {
          "base_uri": "https://localhost:8080/"
        },
        "id": "hVUnW0xJEVKv",
        "outputId": "aba29680-7abd-4837-c6d6-95da42aefa79"
      },
      "execution_count": 49,
      "outputs": [
        {
          "output_type": "execute_result",
          "data": {
            "text/plain": [
              "[3, 1, 4, 1, 5, 9, 2, 6]"
            ]
          },
          "metadata": {},
          "execution_count": 49
        }
      ]
    },
    {
      "cell_type": "code",
      "source": [
        "# Use the list's sort() method to sort the list in-place\n",
        "L.sort()\n",
        "# Print the modified list\n",
        "print(L)"
      ],
      "metadata": {
        "colab": {
          "base_uri": "https://localhost:8080/"
        },
        "id": "745HeztN3Sql",
        "outputId": "17754c7d-5869-4e67-b588-5eb8ee3c0205"
      },
      "execution_count": 26,
      "outputs": [
        {
          "output_type": "stream",
          "name": "stdout",
          "text": [
            "[1, 1, 2, 3, 4, 5, 6, 9]\n"
          ]
        }
      ]
    },
    {
      "cell_type": "code",
      "source": [
        "# Use sorted() on a string, which returns a sorted list of characters\n",
        "sorted('python')"
      ],
      "metadata": {
        "colab": {
          "base_uri": "https://localhost:8080/"
        },
        "id": "psavfUGS3hxV",
        "outputId": "97367ddb-9733-46f9-df62-398db893111c"
      },
      "execution_count": 27,
      "outputs": [
        {
          "output_type": "execute_result",
          "data": {
            "text/plain": [
              "['h', 'n', 'o', 'p', 't', 'y']"
            ]
          },
          "metadata": {},
          "execution_count": 27
        }
      ]
    },
    {
      "cell_type": "markdown",
      "source": [
        "# **Fast Sorting in Numpy:**\n",
        "\n",
        " **np.sort and np.argsort**"
      ],
      "metadata": {
        "id": "p38758Ha3paJ"
      }
    },
    {
      "cell_type": "code",
      "source": [
        "import numpy as np\n",
        "\n",
        "# Define a NumPy array\n",
        "x = np.array([2, 1, 4, 3, 5])\n",
        "# Use np.sort() to return a sorted copy of the array\n",
        "np.sort(x)"
      ],
      "metadata": {
        "colab": {
          "base_uri": "https://localhost:8080/"
        },
        "id": "wFr6fEkw3xXt",
        "outputId": "01a82152-4200-4c62-cd43-40cbf140d790"
      },
      "execution_count": 28,
      "outputs": [
        {
          "output_type": "execute_result",
          "data": {
            "text/plain": [
              "array([1, 2, 3, 4, 5])"
            ]
          },
          "metadata": {},
          "execution_count": 28
        }
      ]
    },
    {
      "cell_type": "code",
      "source": [
        "# Use the array's sort() method to sort the array in-place\n",
        "x.sort()\n",
        "# Print the modified array\n",
        "print(x)"
      ],
      "metadata": {
        "colab": {
          "base_uri": "https://localhost:8080/"
        },
        "id": "Hcr7q_2-36a8",
        "outputId": "1d25a829-8849-4057-b128-8d1837fda1c4"
      },
      "execution_count": 29,
      "outputs": [
        {
          "output_type": "stream",
          "name": "stdout",
          "text": [
            "[1 2 3 4 5]\n"
          ]
        }
      ]
    },
    {
      "cell_type": "code",
      "source": [
        "# Define a NumPy array\n",
        "x = np.array([2,1,4,3,5])\n",
        "# Use np.argsort() to get the indices that would sort the array\n",
        "i = np.argsort(x)\n",
        "# Print the indices\n",
        "print(i)"
      ],
      "metadata": {
        "colab": {
          "base_uri": "https://localhost:8080/"
        },
        "id": "MA0xR09s3-Rz",
        "outputId": "012b6380-517c-4ed8-c362-cc713564e371"
      },
      "execution_count": 30,
      "outputs": [
        {
          "output_type": "stream",
          "name": "stdout",
          "text": [
            "[1 0 3 2 4]\n"
          ]
        }
      ]
    },
    {
      "cell_type": "code",
      "source": [
        "# Use the indices obtained from argsort to access elements of the original array in sorted order\n",
        "x[i]"
      ],
      "metadata": {
        "colab": {
          "base_uri": "https://localhost:8080/"
        },
        "id": "-3QcOOkD4JVz",
        "outputId": "ad9e689b-96c8-4983-9fe7-f00cf716a02b"
      },
      "execution_count": 31,
      "outputs": [
        {
          "output_type": "execute_result",
          "data": {
            "text/plain": [
              "array([1, 2, 3, 4, 5])"
            ]
          },
          "metadata": {},
          "execution_count": 31
        }
      ]
    },
    {
      "cell_type": "markdown",
      "source": [
        "# **Sorting Along Rows or Columns**"
      ],
      "metadata": {
        "id": "d6iIqmz84WTC"
      }
    },
    {
      "cell_type": "code",
      "source": [
        "# Initialize a random number generator with a seed for reproducibility\n",
        "rng = np.random.default_rng(seed=42)\n",
        "# Generate a 4x6 array of random integers between 0 and 10\n",
        "X = rng.integers(0, 10, (4, 6))\n",
        "# Print the array\n",
        "print(X)"
      ],
      "metadata": {
        "colab": {
          "base_uri": "https://localhost:8080/"
        },
        "id": "_f9rU_h74dKK",
        "outputId": "eb708058-f318-4e26-f9f3-89ddcdeb9f46"
      },
      "execution_count": 32,
      "outputs": [
        {
          "output_type": "stream",
          "name": "stdout",
          "text": [
            "[[0 7 6 4 4 8]\n",
            " [0 6 2 0 5 9]\n",
            " [7 7 7 7 5 1]\n",
            " [8 4 5 3 1 9]]\n"
          ]
        }
      ]
    },
    {
      "cell_type": "code",
      "source": [
        "# Use np.sort() with axis=0 to sort each column of the array\n",
        "np.sort(X, axis=0)"
      ],
      "metadata": {
        "colab": {
          "base_uri": "https://localhost:8080/"
        },
        "id": "nzW5A0Q04seT",
        "outputId": "8f2be504-34ba-4c8e-ae2b-1778dd87e80c"
      },
      "execution_count": 33,
      "outputs": [
        {
          "output_type": "execute_result",
          "data": {
            "text/plain": [
              "array([[0, 4, 2, 0, 1, 1],\n",
              "       [0, 6, 5, 3, 4, 8],\n",
              "       [7, 7, 6, 4, 5, 9],\n",
              "       [8, 7, 7, 7, 5, 9]])"
            ]
          },
          "metadata": {},
          "execution_count": 33
        }
      ]
    },
    {
      "cell_type": "code",
      "source": [
        "# Use np.sort() with axis=1 to sort each row of the array\n",
        "np.sort(X, axis=1)"
      ],
      "metadata": {
        "colab": {
          "base_uri": "https://localhost:8080/"
        },
        "id": "WbYgaX174zZ9",
        "outputId": "9c082363-1519-44d7-87ce-c9fce98cd8d4"
      },
      "execution_count": 34,
      "outputs": [
        {
          "output_type": "execute_result",
          "data": {
            "text/plain": [
              "array([[0, 4, 4, 6, 7, 8],\n",
              "       [0, 0, 2, 5, 6, 9],\n",
              "       [1, 5, 7, 7, 7, 7],\n",
              "       [1, 3, 4, 5, 8, 9]])"
            ]
          },
          "metadata": {},
          "execution_count": 34
        }
      ]
    },
    {
      "cell_type": "markdown",
      "source": [
        "# **Partial Sorts: Partitioning**"
      ],
      "metadata": {
        "id": "gmBQvv5247OL"
      }
    },
    {
      "cell_type": "code",
      "source": [
        "# Define a NumPy array\n",
        "x = np.array([7,2,3,1,6,5,4])\n",
        "# Use np.partition() to find the element that would be at the 3rd index if the array were sorted,\n",
        "# and place all smaller elements before it and all larger elements after it.\n",
        "np.partition(x, 3)"
      ],
      "metadata": {
        "colab": {
          "base_uri": "https://localhost:8080/"
        },
        "id": "JYsPWT6_5BRa",
        "outputId": "20d14ac0-603c-464a-a978-e79d6b0f3570"
      },
      "execution_count": 35,
      "outputs": [
        {
          "output_type": "execute_result",
          "data": {
            "text/plain": [
              "array([1, 2, 3, 4, 5, 6, 7])"
            ]
          },
          "metadata": {},
          "execution_count": 35
        }
      ]
    },
    {
      "cell_type": "code",
      "source": [
        "# Use np.partition() with axis=1 to partition each row of the array X\n",
        "# The element that would be at index 2 if the row were sorted is placed at index 2,\n",
        "# smaller elements are placed before it, and larger elements after it.\n",
        "np.partition(X, 2, axis=1)"
      ],
      "metadata": {
        "colab": {
          "base_uri": "https://localhost:8080/"
        },
        "id": "EJVCKQQC5MNH",
        "outputId": "7a637d0b-f850-4eae-f8a4-99c7bf353614"
      },
      "execution_count": 36,
      "outputs": [
        {
          "output_type": "execute_result",
          "data": {
            "text/plain": [
              "array([[0, 4, 4, 6, 7, 8],\n",
              "       [0, 0, 2, 5, 6, 9],\n",
              "       [1, 5, 7, 7, 7, 7],\n",
              "       [1, 3, 4, 5, 8, 9]])"
            ]
          },
          "metadata": {},
          "execution_count": 36
        }
      ]
    },
    {
      "cell_type": "markdown",
      "source": [
        "# **Example : K-Nearest Neighbors**"
      ],
      "metadata": {
        "id": "xadfESi05XEw"
      }
    },
    {
      "cell_type": "code",
      "source": [
        "# Generate a 10x2 array of random numbers between 0 and 1\n",
        "X = rng.random((10, 2))"
      ],
      "metadata": {
        "id": "hPiKiJVb5c3L"
      },
      "execution_count": 37,
      "outputs": []
    },
    {
      "cell_type": "code",
      "source": [
        "# Enable inline plotting in the notebook\n",
        "%matplotlib inline\n",
        "import matplotlib.pyplot as plt\n",
        "# Set the plotting style\n",
        "plt.style.use('seaborn-v0_8-whitegrid')\n",
        "# Create a scatter plot of the points in X\n",
        "plt.scatter(X[:, 0], X[:, 1], s=100)"
      ],
      "metadata": {
        "colab": {
          "base_uri": "https://localhost:8080/",
          "height": 443
        },
        "id": "5kFnp24f5h8N",
        "outputId": "a7c1d606-8583-4d38-f8a2-843ee76cddde"
      },
      "execution_count": 38,
      "outputs": [
        {
          "output_type": "execute_result",
          "data": {
            "text/plain": [
              "<matplotlib.collections.PathCollection at 0x7ae781609810>"
            ]
          },
          "metadata": {},
          "execution_count": 38
        },
        {
          "output_type": "display_data",
          "data": {
            "text/plain": [
              "<Figure size 640x480 with 1 Axes>"
            ],
            "image/png": "[encoded data removed]"
          },
          "metadata": {}
        }
      ]
    },
    {
      "cell_type": "code",
      "source": [
        "# Calculate the squared Euclidean distance between each pair of points in X\n",
        "# X[:, np.newaxis] adds a new dimension to X, making it (10, 1, 2)\n",
        "# X[np.newaxis, :] adds a new dimension to X, making it (1, 10, 2)\n",
        "# The difference between these two arrays results in a (10, 10, 2) array where\n",
        "# each element (i, j, :) contains the difference in coordinates between point i and point j.\n",
        "# Squaring this difference gives the squared difference in coordinates.\n",
        "# Summing along the last axis (axis=-1) gives the sum of squared differences for each pair of points,\n",
        "# which is the squared Euclidean distance.\n",
        "dist_sq = np.sum((X[:, np.newaxis] - X[np.newaxis, :]) **2, axis=-1)"
      ],
      "metadata": {
        "id": "fq9H4FiM7Dxw"
      },
      "execution_count": 39,
      "outputs": []
    },
    {
      "cell_type": "code",
      "source": [
        "# for each pair of points, compute differences in their coordinates\n",
        "# This creates a 10x10x2 array where differences[i, j, :] is the difference\n",
        "# between the coordinates of point i and point j.\n",
        "differences = X[:, np.newaxis] - X[np.newaxis, :]\n",
        "# Print the shape of the differences array\n",
        "differences.shape"
      ],
      "metadata": {
        "colab": {
          "base_uri": "https://localhost:8080/"
        },
        "id": "p3Agi73974xZ",
        "outputId": "6ad2ec9c-1963-4164-c50d-160fe305a0ea"
      },
      "execution_count": 40,
      "outputs": [
        {
          "output_type": "execute_result",
          "data": {
            "text/plain": [
              "(10, 10, 2)"
            ]
          },
          "metadata": {},
          "execution_count": 40
        }
      ]
    },
    {
      "cell_type": "code",
      "source": [
        "# Square the coordinate differences\n",
        "# This squares each element in the differences array.\n",
        "sq_differences = differences ** 2\n",
        "# Print the shape of the squared differences array\n",
        "sq_differences.shape"
      ],
      "metadata": {
        "colab": {
          "base_uri": "https://localhost:8080/"
        },
        "id": "oDolK0ja76oH",
        "outputId": "607cfc3b-c3f7-455f-bc0d-bdd26b5030cd"
      },
      "execution_count": 41,
      "outputs": [
        {
          "output_type": "execute_result",
          "data": {
            "text/plain": [
              "(10, 10, 2)"
            ]
          },
          "metadata": {},
          "execution_count": 41
        }
      ]
    },
    {
      "cell_type": "code",
      "source": [
        "# sum the coordinate differences to get the squared distance\n",
        "# Summing along the last axis (axis=-1) calculates the sum of squared differences\n",
        "# for each pair of points, resulting in a 10x10 array of squared distances.\n",
        "dist_sq = sq_differences.sum(axis=-1)\n",
        "# Print the shape of the squared distance matrix\n",
        "dist_sq.shape"
      ],
      "metadata": {
        "colab": {
          "base_uri": "https://localhost:8080/"
        },
        "id": "y7Y9MYaH8IFO",
        "outputId": "60160149-1849-4400-a807-5cf59d89b0c1"
      },
      "execution_count": 42,
      "outputs": [
        {
          "output_type": "execute_result",
          "data": {
            "text/plain": [
              "(10, 10)"
            ]
          },
          "metadata": {},
          "execution_count": 42
        }
      ]
    },
    {
      "cell_type": "code",
      "source": [
        "# Get the diagonal elements of the squared distance matrix\n",
        "# The diagonal elements represent the squared distance of each point to itself, which is always 0.\n",
        "dist_sq.diagonal()"
      ],
      "metadata": {
        "colab": {
          "base_uri": "https://localhost:8080/"
        },
        "id": "2bLiq35m8YaM",
        "outputId": "b99ec3d8-b925-4a51-b214-d96bf67ad511"
      },
      "execution_count": 43,
      "outputs": [
        {
          "output_type": "execute_result",
          "data": {
            "text/plain": [
              "array([0., 0., 0., 0., 0., 0., 0., 0., 0., 0.])"
            ]
          },
          "metadata": {},
          "execution_count": 43
        }
      ]
    },
    {
      "cell_type": "code",
      "source": [
        "# Find the indices that would sort the squared distance matrix along each row\n",
        "# This gives the indices of the nearest points for each point, sorted by distance.\n",
        "nearest = np.argsort(dist_sq, axis=1)\n",
        "# Print the array of nearest indices\n",
        "print(nearest)"
      ],
      "metadata": {
        "colab": {
          "base_uri": "https://localhost:8080/"
        },
        "id": "5YllnoAK8bgj",
        "outputId": "b81a166a-2e14-4aed-a52d-a988fc331232"
      },
      "execution_count": 44,
      "outputs": [
        {
          "output_type": "stream",
          "name": "stdout",
          "text": [
            "[[0 9 3 5 4 8 1 6 2 7]\n",
            " [1 7 2 6 4 8 3 0 9 5]\n",
            " [2 7 1 6 4 3 8 0 9 5]\n",
            " [3 0 4 5 9 6 1 2 8 7]\n",
            " [4 6 3 1 2 7 0 5 9 8]\n",
            " [5 9 3 0 4 6 8 1 2 7]\n",
            " [6 4 2 1 7 3 0 5 9 8]\n",
            " [7 2 1 6 4 3 8 0 9 5]\n",
            " [8 0 1 9 3 4 7 2 6 5]\n",
            " [9 0 5 3 4 8 6 1 2 7]]\n"
          ]
        }
      ]
    },
    {
      "cell_type": "code",
      "source": [
        "# Use np.argpartition() to find the indices of the K+1 nearest neighbors for each point\n",
        "# This is more efficient than argsort if you only need the indices of the smallest elements.\n",
        "K = 2\n",
        "nearest_partition = np.argpartition(dist_sq, K+1, axis=1)"
      ],
      "metadata": {
        "id": "dl2PSO6a8gIj"
      },
      "execution_count": 45,
      "outputs": []
    },
    {
      "cell_type": "code",
      "source": [
        "# Create a scatter plot of the points\n",
        "plt.scatter(X[:, 0], X[:, 1], s=100)\n",
        "\n",
        "# draw lines from each point to its two nearest neighbors\n",
        "\n",
        "# Define the number of nearest neighbors to consider\n",
        "K =2\n",
        "\n",
        "# Iterate through each point\n",
        "for i in range(X.shape[0]):\n",
        "    # Iterate through the indices of the K+1 nearest neighbors for the current point\n",
        "    for j in nearest_partition[i, :K+1]:\n",
        "        # plot a line from X[i] to X[j]\n",
        "        # Use zip to pair the x-coordinates and y-coordinates of the two points\n",
        "        plt.plot(*zip(X[j], X[i]), color='black')"
      ],
      "metadata": {
        "colab": {
          "base_uri": "https://localhost:8080/",
          "height": 425
        },
        "id": "WTLtsOAZ8luf",
        "outputId": "c2a880b2-ab66-49e9-a7fd-c2962782d7c2"
      },
      "execution_count": 46,
      "outputs": [
        {
          "output_type": "display_data",
          "data": {
            "text/plain": [
              "<Figure size 640x480 with 1 Axes>"
            ],
            "image/png": "[encoded data removed]"
          },
          "metadata": {}
        }
      ]
    }
  ]
}