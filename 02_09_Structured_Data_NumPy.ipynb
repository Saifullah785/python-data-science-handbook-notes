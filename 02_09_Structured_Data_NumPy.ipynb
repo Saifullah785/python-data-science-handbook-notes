{
  "nbformat": 4,
  "nbformat_minor": 0,
  "metadata": {
    "colab": {
      "provenance": [],
      "authorship_tag": "ABX9TyN7DUL2z/2pd2TJocXTN3Pj",
      "include_colab_link": true
    },
    "kernelspec": {
      "name": "python3",
      "display_name": "Python 3"
    },
    "language_info": {
      "name": "python"
    }
  },
  "cells": [
    {
      "cell_type": "markdown",
      "metadata": {
        "id": "view-in-github",
        "colab_type": "text"
      },
      "source": [
        "<a href=\"https://colab.research.google.com/github/Saifullah785/python-data-science-handbook-notes/blob/main/02_09_Structured_Data_NumPy.ipynb\" target=\"_parent\"><img src=\"https://colab.research.google.com/assets/colab-badge.svg\" alt=\"Open In Colab\"/></a>"
      ]
    },
    {
      "cell_type": "markdown",
      "source": [
        "# **Structured Data: Numpy's Structured Arrays**\n",
        "\n",
        "These arrays allow you to store data with different data types in a single array, similar to a table or spreadsheet. You can define custom data types with named fields and specific formats for each field."
      ],
      "metadata": {
        "id": "_QtJ1MVzPyg6"
      }
    },
    {
      "cell_type": "code",
      "execution_count": 52,
      "metadata": {
        "id": "lmxAoeZsFb9L"
      },
      "outputs": [],
      "source": [
        "#import necessary libraries\n",
        "\n",
        "import numpy as np"
      ]
    },
    {
      "cell_type": "code",
      "source": [
        "# Define lists for name, age, and weight\n",
        "name = ['Alice', 'Bob', 'Cathy', 'Doug']\n",
        "\n",
        "age = [25, 45, 37, 19]\n",
        "\n",
        "weight = [55.0, 85.5, 68.0, 61.5]"
      ],
      "metadata": {
        "id": "6KMn5EU1QII2"
      },
      "execution_count": 36,
      "outputs": []
    },
    {
      "cell_type": "code",
      "source": [
        "# Create a NumPy array of zeros with integer data type\n",
        "x = np.zeros(4, dtype=int)"
      ],
      "metadata": {
        "id": "fEolBbZsXYs3"
      },
      "execution_count": 37,
      "outputs": []
    },
    {
      "cell_type": "code",
      "source": [
        "# Use a compound data type for structured arrays\n",
        "# Define the structure with names and formats for each field\n",
        "data = np.zeros(4, dtype={'names':('name', 'age', 'weight'),\n",
        "                          'formats':('U10', 'i4', 'f8')})\n",
        "# Print the data type of the structured array\n",
        "print(data.dtype)"
      ],
      "metadata": {
        "colab": {
          "base_uri": "https://localhost:8080/"
        },
        "id": "wRC66QXuXqlc",
        "outputId": "d2228a3d-01d0-4897-9746-b2e9efdc6535"
      },
      "execution_count": 38,
      "outputs": [
        {
          "output_type": "stream",
          "name": "stdout",
          "text": [
            "[('name', '<U10'), ('age', '<i4'), ('weight', '<f8')]\n"
          ]
        }
      ]
    },
    {
      "cell_type": "code",
      "source": [
        "# Assign data to the structured array\n",
        "data['name'] = name\n",
        "data['age'] = age\n",
        "data['weight'] = weight\n",
        "# Print the structured array\n",
        "print(data)"
      ],
      "metadata": {
        "colab": {
          "base_uri": "https://localhost:8080/"
        },
        "id": "s4oL-nWRYkQ8",
        "outputId": "3362e43b-0cbd-4da9-c193-2b4028767edd"
      },
      "execution_count": 39,
      "outputs": [
        {
          "output_type": "stream",
          "name": "stdout",
          "text": [
            "[('Alice', 25, 55. ) ('Bob', 45, 85.5) ('Cathy', 37, 68. )\n",
            " ('Doug', 19, 61.5)]\n"
          ]
        }
      ]
    },
    {
      "cell_type": "code",
      "source": [
        "# Access and print all names from the structured array\n",
        "data['name']"
      ],
      "metadata": {
        "colab": {
          "base_uri": "https://localhost:8080/"
        },
        "id": "00utubgbYmIk",
        "outputId": "46d36325-cbe1-46f7-984b-4eb0198c878e"
      },
      "execution_count": 40,
      "outputs": [
        {
          "output_type": "execute_result",
          "data": {
            "text/plain": [
              "array(['Alice', 'Bob', 'Cathy', 'Doug'], dtype='<U10')"
            ]
          },
          "metadata": {},
          "execution_count": 40
        }
      ]
    },
    {
      "cell_type": "code",
      "source": [
        "# Access and print the first row of data from the structured array\n",
        "data[0]"
      ],
      "metadata": {
        "colab": {
          "base_uri": "https://localhost:8080/"
        },
        "id": "FkItA1zmYukM",
        "outputId": "efb285d8-5855-40bd-8fdb-0583e232c00b"
      },
      "execution_count": 41,
      "outputs": [
        {
          "output_type": "execute_result",
          "data": {
            "text/plain": [
              "np.void(('Alice', 25, 55.0), dtype=[('name', '<U10'), ('age', '<i4'), ('weight', '<f8')])"
            ]
          },
          "metadata": {},
          "execution_count": 41
        }
      ]
    },
    {
      "cell_type": "code",
      "source": [
        "# Access and print the name from the last row of the structured array\n",
        "data[-1]['name']"
      ],
      "metadata": {
        "colab": {
          "base_uri": "https://localhost:8080/",
          "height": 35
        },
        "id": "C9_My7yMZNNj",
        "outputId": "2153915a-438c-4541-aaff-e7bb9d1e8f1f"
      },
      "execution_count": 42,
      "outputs": [
        {
          "output_type": "execute_result",
          "data": {
            "text/plain": [
              "np.str_('Doug')"
            ],
            "application/vnd.google.colaboratory.intrinsic+json": {
              "type": "string"
            }
          },
          "metadata": {},
          "execution_count": 42
        }
      ]
    },
    {
      "cell_type": "code",
      "source": [
        "# Access and print names where age is under 30 using boolean indexing\n",
        "data[data['age'] < 30]['name']"
      ],
      "metadata": {
        "colab": {
          "base_uri": "https://localhost:8080/"
        },
        "id": "x77EyC1tZrCa",
        "outputId": "9dd561eb-21c8-468f-8533-fd5965a8a1e9"
      },
      "execution_count": 43,
      "outputs": [
        {
          "output_type": "execute_result",
          "data": {
            "text/plain": [
              "array(['Alice', 'Doug'], dtype='<U10')"
            ]
          },
          "metadata": {},
          "execution_count": 43
        }
      ]
    },
    {
      "cell_type": "markdown",
      "source": [
        "# **Exploring Structured Array Creation**\n",
        "\n",
        "This section demonstrates various ways to define the compound data types for structured arrays, including using dictionaries, lists of tuples, and comma-separated strings. Different format specifications like string lengths and data type objects are explored."
      ],
      "metadata": {
        "id": "CD3v1CRTZ1Jp"
      }
    },
    {
      "cell_type": "code",
      "source": [
        "# Define a compound data type using a dictionary with names and formats\n",
        "np.dtype({'names':('name', 'age', 'weight'),\n",
        "          'formats':('U10', 'i4', 'f8')})"
      ],
      "metadata": {
        "colab": {
          "base_uri": "https://localhost:8080/"
        },
        "id": "tQRfO9-oaOQx",
        "outputId": "39f9b4e6-12c1-43a2-f590-bfe22c9a03b2"
      },
      "execution_count": 44,
      "outputs": [
        {
          "output_type": "execute_result",
          "data": {
            "text/plain": [
              "dtype([('name', '<U10'), ('age', '<i4'), ('weight', '<f8')])"
            ]
          },
          "metadata": {},
          "execution_count": 44
        }
      ]
    },
    {
      "cell_type": "code",
      "source": [
        "# Define a compound data type using a dictionary with names and format types\n",
        "np.dtype({'names':('name', 'age', 'weight'),\n",
        "          'formats':((np.str_, 10), int, np.float32)})"
      ],
      "metadata": {
        "colab": {
          "base_uri": "https://localhost:8080/"
        },
        "id": "ZzYD5V4uhu-O",
        "outputId": "e72afd8a-e2f6-4fc6-fb32-ee93714b0aed"
      },
      "execution_count": 45,
      "outputs": [
        {
          "output_type": "execute_result",
          "data": {
            "text/plain": [
              "dtype([('name', '<U10'), ('age', '<i8'), ('weight', '<f4')])"
            ]
          },
          "metadata": {},
          "execution_count": 45
        }
      ]
    },
    {
      "cell_type": "code",
      "source": [
        "# Define a compound data type using a list of tuples with names and type strings\n",
        "np.dtype([('name', 'S10'), ('age', 'i4'), ('weight', 'f8')])"
      ],
      "metadata": {
        "colab": {
          "base_uri": "https://localhost:8080/"
        },
        "id": "GrWXP7OSibWa",
        "outputId": "91af86a8-f8f0-4f14-bf2f-c232e89a5400"
      },
      "execution_count": 46,
      "outputs": [
        {
          "output_type": "execute_result",
          "data": {
            "text/plain": [
              "dtype([('name', 'S10'), ('age', '<i4'), ('weight', '<f8')])"
            ]
          },
          "metadata": {},
          "execution_count": 46
        }
      ]
    },
    {
      "cell_type": "code",
      "source": [
        "# Define a compound data type using a comma-separated string of type strings\n",
        "np.dtype('S10,i4,f8')"
      ],
      "metadata": {
        "colab": {
          "base_uri": "https://localhost:8080/"
        },
        "id": "lRQD3vGxkAlk",
        "outputId": "d5bc95aa-7e5b-4e95-e714-62f75abef1e9"
      },
      "execution_count": 47,
      "outputs": [
        {
          "output_type": "execute_result",
          "data": {
            "text/plain": [
              "dtype([('f0', 'S10'), ('f1', '<i4'), ('f2', '<f8')])"
            ]
          },
          "metadata": {},
          "execution_count": 47
        }
      ]
    },
    {
      "cell_type": "markdown",
      "source": [
        "# **More Advanced Compound Types**\n",
        "\n",
        "This part shows how structured arrays can handle more complex data structures, such as including multi-dimensional arrays (like matrices) as fields within the structured array. This allows for representing more intricate data relationships."
      ],
      "metadata": {
        "id": "8IOylQ9BkFjH"
      }
    },
    {
      "cell_type": "code",
      "source": [
        "# Define a compound data type with an integer ID and a 3x3 float matrix\n",
        "tp = np.dtype([('id', 'i8'), ('mat', 'f8', (3, 3))])\n",
        "# Create a zero array with the defined compound data type\n",
        "X = np.zeros(1, dtype=tp)\n",
        "# Print the first element of the array\n",
        "print(X[0])\n",
        "# Print the 'mat' field of the first element\n",
        "print(X['mat'][0])"
      ],
      "metadata": {
        "colab": {
          "base_uri": "https://localhost:8080/"
        },
        "id": "byltI7kmkEUa",
        "outputId": "243a49e8-9c75-453b-f411-1dd1f7208592"
      },
      "execution_count": 48,
      "outputs": [
        {
          "output_type": "stream",
          "name": "stdout",
          "text": [
            "(0, [[0.0, 0.0, 0.0], [0.0, 0.0, 0.0], [0.0, 0.0, 0.0]])\n",
            "[[0. 0. 0.]\n",
            " [0. 0. 0.]\n",
            " [0. 0. 0.]]\n"
          ]
        }
      ]
    },
    {
      "cell_type": "markdown",
      "source": [
        "# **Record Array: Structured Arrays with a twist**\n",
        "\n",
        "Record arrays provide an alternative way to access data in structured arrays using attribute-like notation (e.g., data_rec.age) instead of dictionary-like indexing (data['age']). While offering a different syntax, timing tests show that attribute access might be slower than standard indexing."
      ],
      "metadata": {
        "id": "TvEmpYkWqSrS"
      }
    },
    {
      "cell_type": "code",
      "source": [
        "# Access the 'age' field of the structured array\n",
        "data['age']"
      ],
      "metadata": {
        "colab": {
          "base_uri": "https://localhost:8080/"
        },
        "id": "zAYb4NdFk5tT",
        "outputId": "192a4bbc-c510-48e7-bc49-a758c0dc7c67"
      },
      "execution_count": 49,
      "outputs": [
        {
          "output_type": "execute_result",
          "data": {
            "text/plain": [
              "array([25, 45, 37, 19], dtype=int32)"
            ]
          },
          "metadata": {},
          "execution_count": 49
        }
      ]
    },
    {
      "cell_type": "code",
      "source": [
        "# Create a record array view of the structured array\n",
        "data_rec = data.view(np.recarray)\n",
        "# Access the 'age' field using attribute-like access in the record array\n",
        "data_rec.age"
      ],
      "metadata": {
        "colab": {
          "base_uri": "https://localhost:8080/"
        },
        "id": "PgKnZ5F3qmR-",
        "outputId": "8476e495-d590-409c-b8b3-2d67dc699904"
      },
      "execution_count": 50,
      "outputs": [
        {
          "output_type": "execute_result",
          "data": {
            "text/plain": [
              "array([25, 45, 37, 19], dtype=int32)"
            ]
          },
          "metadata": {},
          "execution_count": 50
        }
      ]
    },
    {
      "cell_type": "code",
      "source": [
        "# Time the access of the 'age' field using standard structured array indexing\n",
        "%timeit data['age']\n",
        "# Time the access of the 'age' field using dictionary-like indexing on the record array\n",
        "%timeit data_rec['age']\n",
        "# Time the access of the 'age' field using attribute-like access on the record array\n",
        "%timeit data_rec.age"
      ],
      "metadata": {
        "colab": {
          "base_uri": "https://localhost:8080/"
        },
        "id": "mL8RyDhHqtMP",
        "outputId": "be47f998-e2fc-459e-d6d5-e89980381712"
      },
      "execution_count": 51,
      "outputs": [
        {
          "output_type": "stream",
          "name": "stdout",
          "text": [
            "133 ns ± 29.3 ns per loop (mean ± std. dev. of 7 runs, 10000000 loops each)\n",
            "1.79 µs ± 280 ns per loop (mean ± std. dev. of 7 runs, 1000000 loops each)\n",
            "2.99 µs ± 70 ns per loop (mean ± std. dev. of 7 runs, 100000 loops each)\n"
          ]
        }
      ]
    },
    {
      "cell_type": "markdown",
      "source": [
        "# **On to Pandas**\n",
        "\n",
        "This marks the transition from using NumPy's structured arrays to the Pandas library, which is built on NumPy and provides more powerful and flexible data manipulation and analysis tools, often simplifying tasks performed with structured arrays."
      ],
      "metadata": {
        "id": "44DnO-hUrQAj"
      }
    }
  ]
}